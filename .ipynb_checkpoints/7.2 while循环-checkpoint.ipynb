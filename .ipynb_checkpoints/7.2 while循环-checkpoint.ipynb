{
 "cells": [
  {
   "cell_type": "markdown",
   "id": "ccdce742",
   "metadata": {},
   "source": [
    "# while \n",
    "- while 循环不断地运行，直到指定的条件不满足为止。\n",
    "- while True:\n",
    "- continue\n",
    "- break\n",
    "- pass"
   ]
  },
  {
   "cell_type": "code",
   "execution_count": 1,
   "id": "74f96515",
   "metadata": {},
   "outputs": [
    {
     "name": "stdout",
     "output_type": "stream",
     "text": [
      "1\n",
      "2\n",
      "3\n",
      "4\n",
      "5\n"
     ]
    }
   ],
   "source": [
    "# 通过while循环来计数\n",
    "number = 1\n",
    "while number <= 5:\n",
    "    print(number)\n",
    "    number += 1"
   ]
  },
  {
   "cell_type": "code",
   "execution_count": 5,
   "id": "d22e8239",
   "metadata": {},
   "outputs": [
    {
     "name": "stdout",
     "output_type": "stream",
     "text": [
      "\n",
      "请输入需要帮助的信息:\n",
      "退出请输入'quit'lala\n",
      "lala\n",
      "\n",
      "请输入需要帮助的信息:\n",
      "退出请输入'quit'gog\n",
      "gog\n",
      "\n",
      "请输入需要帮助的信息:\n",
      "退出请输入'quit'quit\n",
      "quit\n"
     ]
    }
   ],
   "source": [
    "# 1.让用户选择何时退出\n",
    "promt = '\\n请输入需要帮助的信息:'\n",
    "promt += '\\n退出请输入\\'quit\\''\n",
    "message = ''\n",
    "while message != 'quit':\n",
    "    message = input(promt)\n",
    "    print(message)"
   ]
  },
  {
   "cell_type": "code",
   "execution_count": 6,
   "id": "a0e208a0",
   "metadata": {},
   "outputs": [
    {
     "name": "stdout",
     "output_type": "stream",
     "text": [
      "\n",
      "请输入需要帮助的信息:\n",
      "退出请输入'quit'lll\n",
      "lll\n",
      "\n",
      "请输入需要帮助的信息:\n",
      "退出请输入'quit'aaa\n",
      "aaa\n",
      "\n",
      "请输入需要帮助的信息:\n",
      "退出请输入'quit'quit\n"
     ]
    }
   ],
   "source": [
    "# 2.优化，不打印出quit\n",
    "prompt = '\\n请输入需要帮助的信息:'\n",
    "prompt += '\\n退出请输入\\'quit\\''\n",
    "message = ''\n",
    "while message != 'quit':\n",
    "    message = input(prompt)\n",
    "    if message != 'quit':\n",
    "        print(message)"
   ]
  },
  {
   "cell_type": "code",
   "execution_count": 7,
   "id": "92855293",
   "metadata": {},
   "outputs": [
    {
     "name": "stdout",
     "output_type": "stream",
     "text": [
      "\n",
      "请输入需要帮助的信息:\n",
      "退出请输入'quit'quit\n"
     ]
    }
   ],
   "source": [
    "# 3.使用标注 - 变量，判断整个程序是否处于活动状态,\n",
    "# 变量为True继续循环，在任意条件中变为Flase，则结束循环\n",
    "prompt = '\\n请输入需要帮助的信息:'\n",
    "prompt += '\\n退出请输入\\'quit\\''\n",
    "active = True\n",
    "while active:\n",
    "    message = input(prompt)\n",
    "    \n",
    "    if message == 'quit':\n",
    "        active = False\n",
    "    else:\n",
    "        print(message)"
   ]
  },
  {
   "cell_type": "code",
   "execution_count": 9,
   "id": "b7cd2af1",
   "metadata": {},
   "outputs": [
    {
     "name": "stdout",
     "output_type": "stream",
     "text": [
      "请输入你去过哪些城市beijing\n",
      "beijing\n",
      "请输入你去过哪些城市shanghai\n",
      "shanghai\n",
      "请输入你去过哪些城市quit\n"
     ]
    }
   ],
   "source": [
    "# 4.使用break退出循环\n",
    "city = '请输入你去过哪些城市'\n",
    "while True:\n",
    "    cities = input(city)\n",
    "    \n",
    "    if cities == 'quit':\n",
    "        break\n",
    "    else:\n",
    "        print(cities)"
   ]
  },
  {
   "cell_type": "code",
   "execution_count": 13,
   "id": "24e090f5",
   "metadata": {},
   "outputs": [
    {
     "name": "stdout",
     "output_type": "stream",
     "text": [
      "2\n",
      "2\n",
      "4\n",
      "4\n",
      "6\n",
      "6\n",
      "8\n",
      "8\n",
      "10\n",
      "10\n"
     ]
    }
   ],
   "source": [
    "# continue,返回到循环开头,忽略continue后面的代码\n",
    "# 当i是奇数时，因为有continue，不执行print函数\n",
    "for i in range(1,11):\n",
    "    if i % 2 == 0:\n",
    "        print(i)\n",
    "    else:\n",
    "        continue\n",
    "        print(i)\n",
    "    print(i)"
   ]
  },
  {
   "cell_type": "code",
   "execution_count": 14,
   "id": "0991c49d",
   "metadata": {},
   "outputs": [
    {
     "name": "stdout",
     "output_type": "stream",
     "text": [
      "2\n",
      "4\n",
      "6\n",
      "8\n",
      "10\n"
     ]
    }
   ],
   "source": [
    "# 另一种编程方法\n",
    "number = 0\n",
    "while number <= 10:\n",
    "    number += 1\n",
    "    if number % 2 == 0:\n",
    "        print(number)\n",
    "    else:\n",
    "        continue\n",
    "    "
   ]
  },
  {
   "cell_type": "code",
   "execution_count": 15,
   "id": "e5c61339",
   "metadata": {},
   "outputs": [
    {
     "name": "stdout",
     "output_type": "stream",
     "text": [
      "1\n",
      "2\n",
      "3\n",
      "4\n",
      "5\n"
     ]
    }
   ],
   "source": [
    "# 避免无限循环\n",
    "x = 1\n",
    "while x <= 5:\n",
    "    print(x)\n",
    "    x += 1"
   ]
  },
  {
   "cell_type": "code",
   "execution_count": null,
   "id": "2dccdf37",
   "metadata": {},
   "outputs": [],
   "source": [
    "# 错误示范，进入无限循环,x 永远都<5始终为True\n",
    "# x = 1\n",
    "# while x < 5:\n",
    "#     print(x)"
   ]
  },
  {
   "cell_type": "markdown",
   "id": "e6457277",
   "metadata": {},
   "source": [
    "### 对每个while循环都要进行测试，避免编写无限循环\n",
    "### 可以通过3中方法结束循环\n",
    "- 输入指定的值结束循环\n",
    "- 让某个循环条件为Flase\n",
    "- break语句"
   ]
  },
  {
   "cell_type": "markdown",
   "id": "4a9778ba",
   "metadata": {},
   "source": [
    "### 动手练习\n",
    "### 比萨配料 ：编写一个循环，提示用户输入一系列的比萨配料，并在用户输入'quit' 时结束循环。每当用户输入一种配料后，都打印一条消息，说我们会在比萨 中添加这种配料。"
   ]
  },
  {
   "cell_type": "code",
   "execution_count": 17,
   "id": "f1376e90",
   "metadata": {},
   "outputs": [
    {
     "name": "stdout",
     "output_type": "stream",
     "text": [
      "输入比萨配料lal\n",
      "lal\n",
      "输入比萨配料hahhah\n",
      "hahhah\n",
      "输入比萨配料quit\n"
     ]
    }
   ],
   "source": [
    "while True:\n",
    "    pizza = input('输入比萨配料')\n",
    "    if pizza == 'quit':\n",
    "        break\n",
    "    print(pizza)"
   ]
  },
  {
   "cell_type": "markdown",
   "id": "7990137c",
   "metadata": {},
   "source": [
    "#### 电影票 ：有家电影院根据观众的年龄收取不同的票价：不到3岁的观众免费；3~12岁的观众为10美元；超过12岁的观众为15美元。请编写一个循环，在其中询问用 户的年龄，并指出其票价。"
   ]
  },
  {
   "cell_type": "code",
   "execution_count": 23,
   "id": "de471781",
   "metadata": {
    "scrolled": true
   },
   "outputs": [
    {
     "name": "stdout",
     "output_type": "stream",
     "text": [
      "请输入你的年龄aa\n",
      "你输入的是个撒\n",
      "请输入你的年龄11\n",
      "票价为10元\n",
      "请输入你的年龄2\n",
      "免费看电影\n",
      "请输入你的年龄15\n",
      "票价为15元\n",
      "请输入你的年龄quit\n"
     ]
    }
   ],
   "source": [
    "while True:\n",
    "    age = input('请输入你的年龄')\n",
    "    if age.isdigit():\n",
    "        age = int(age)\n",
    "        if age <= 3:\n",
    "            print('免费看电影')\n",
    "        elif 3 < age < 12:\n",
    "            print('票价为10元')\n",
    "        elif age >= 12:\n",
    "            print('票价为15元')\n",
    "    elif age == 'quit':\n",
    "        break\n",
    "    else:\n",
    "        print('你输入的是个撒')"
   ]
  },
  {
   "cell_type": "code",
   "execution_count": null,
   "id": "bc12fc33",
   "metadata": {},
   "outputs": [],
   "source": []
  }
 ],
 "metadata": {
  "kernelspec": {
   "display_name": "Python 3",
   "language": "python",
   "name": "python3"
  },
  "language_info": {
   "codemirror_mode": {
    "name": "ipython",
    "version": 3
   },
   "file_extension": ".py",
   "mimetype": "text/x-python",
   "name": "python",
   "nbconvert_exporter": "python",
   "pygments_lexer": "ipython3",
   "version": "3.8.8"
  }
 },
 "nbformat": 4,
 "nbformat_minor": 5
}
