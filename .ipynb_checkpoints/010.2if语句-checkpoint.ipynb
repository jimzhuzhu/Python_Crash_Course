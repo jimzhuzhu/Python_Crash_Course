{
 "cells": [
  {
   "cell_type": "markdown",
   "metadata": {},
   "source": [
    "# IF语句\n",
    " - 条件为True，执行后面的代码，否则执行else或忽略"
   ]
  },
  {
   "cell_type": "code",
   "execution_count": 2,
   "metadata": {},
   "outputs": [
    {
     "name": "stdout",
     "output_type": "stream",
     "text": [
      "你已经成年啦\n",
      "你想要干什么\n"
     ]
    }
   ],
   "source": [
    "age = 19\n",
    "if age >= 18:\n",
    "    print(\"你已经成年啦\")\n",
    "    print(\"你想要干什么\")\n",
    "    \n",
    "age = 17\n",
    "if age >= 18:\n",
    "    print(\"你已经成年啦\")\n",
    "    print(\"你想要干什么\")"
   ]
  },
  {
   "cell_type": "code",
   "execution_count": 3,
   "metadata": {},
   "outputs": [
    {
     "name": "stdout",
     "output_type": "stream",
     "text": [
      "你还太小了\n",
      "乖乖呆在家里吧\n"
     ]
    }
   ],
   "source": [
    "# if-else 语句\n",
    "age = 17\n",
    "if age >= 18:\n",
    "    print(\"你已经成年啦\")\n",
    "    print(\"你想要干什么\")\n",
    "else:\n",
    "    print(\"你还太小了\")\n",
    "    print(\"乖乖呆在家里吧\")"
   ]
  },
  {
   "cell_type": "code",
   "execution_count": 5,
   "metadata": {},
   "outputs": [
    {
     "name": "stdout",
     "output_type": "stream",
     "text": [
      "你需要给80人民币作为门票\n",
      "你需要给30人民币作为门票。\n"
     ]
    }
   ],
   "source": [
    "# if-elif-else 结构\n",
    "age = 20\n",
    "if age < 4:\n",
    "    print(\"游乐园免费\")\n",
    "elif age < 18:\n",
    "    print(\"你需要给30人民币作为门票\")\n",
    "else:\n",
    "    print(\"你需要给80人民币作为门票\")\n",
    "\n",
    "# 优化程序\n",
    "age = 14\n",
    "if age < 4:\n",
    "    price = 0\n",
    "elif age < 18:\n",
    "    price = 30\n",
    "else:\n",
    "    price = 80\n",
    "print(\"你需要给\" + str(price) + \"人民币作为门票。\")"
   ]
  },
  {
   "cell_type": "code",
   "execution_count": 6,
   "metadata": {},
   "outputs": [
    {
     "name": "stdout",
     "output_type": "stream",
     "text": [
      "Your admission cost is $5.\n"
     ]
    }
   ],
   "source": [
    "# 使用多个elif代码块\n",
    "age = 12\n",
    "if age < 4:\n",
    "    price = 0\n",
    "elif age < 18:\n",
    "    price = 5\n",
    "elif age < 65:\n",
    "    price = 10\n",
    "else:\n",
    "    price = 5\n",
    "print(\"Your admission cost is $\" + str(price)+ \".\")"
   ]
  },
  {
   "cell_type": "code",
   "execution_count": null,
   "metadata": {},
   "outputs": [],
   "source": [
    "# 省略else代码块\n",
    "age = 12\n",
    "if age < 4:\n",
    "    price = 0\n",
    "elif age < 18:\n",
    "    price = 5\n",
    "elif age < 65:\n",
    "    price = 10\n",
    "elif age >= 65:\n",
    "    price = 5\n",
    "print(\"Your admission cost is $\" + str(price)+ \".\")"
   ]
  },
  {
   "cell_type": "code",
   "execution_count": 7,
   "metadata": {},
   "outputs": [
    {
     "name": "stdout",
     "output_type": "stream",
     "text": [
      "Adding zhuxiaofu\n",
      "Adding liuxiaoxia\n",
      "Adding liuliu\n",
      "完成了你们的全家福\n"
     ]
    }
   ],
   "source": [
    "# 测试多个条件使用多个if语句\n",
    "family = ['zhuxiaofu', 'liuxiaoxia', 'liuliu']\n",
    "if 'zhuxiaofu' in family:\n",
    "    print(\"Adding zhuxiaofu\")\n",
    "if 'liuxiaoxia' in family:\n",
    "    print(\"Adding liuxiaoxia\")\n",
    "if 'liuliu' in family:\n",
    "    print(\"Adding liuliu\")\n",
    "print(\"完成了你们的全家福\")"
   ]
  },
  {
   "cell_type": "markdown",
   "metadata": {},
   "source": [
    "# 外星人颜色"
   ]
  },
  {
   "cell_type": "code",
   "execution_count": 8,
   "metadata": {},
   "outputs": [
    {
     "name": "stdout",
     "output_type": "stream",
     "text": [
      "yor got five points.\n"
     ]
    }
   ],
   "source": [
    "# 1\n",
    "alien_color = ['green', 'yellow', 'red']\n",
    "if 'green' in alien_color:\n",
    "    print(\"yor got five points.\")\n",
    "if 'pink' in alien_color:\n",
    "    print(\"you got five points.\")"
   ]
  },
  {
   "cell_type": "code",
   "execution_count": 9,
   "metadata": {},
   "outputs": [
    {
     "name": "stdout",
     "output_type": "stream",
     "text": [
      "you got five points\n",
      "you got ten points\n"
     ]
    }
   ],
   "source": [
    "# 2\n",
    "alien_color = 'green'\n",
    "if alien_color == 'green':\n",
    "    print(\"you got five points\")\n",
    "else:\n",
    "    print(\"you gou ten points\")\n",
    "\n",
    "if alien_color == \"pink\":\n",
    "    print(\"you got five points\")\n",
    "else:\n",
    "    print(\"you got ten points\")"
   ]
  },
  {
   "cell_type": "code",
   "execution_count": 10,
   "metadata": {},
   "outputs": [
    {
     "name": "stdout",
     "output_type": "stream",
     "text": [
      "you got five points\n"
     ]
    }
   ],
   "source": [
    "# 3\n",
    "alien_color = 'green'\n",
    "# alien_color == 'yellow'\n",
    "# alien_color == 'red'\n",
    "if alien_color == 'green':\n",
    "    print(\"you got five points\")\n",
    "elif alien_color == \"yellow\":\n",
    "    print(\"you got ten points\")\n",
    "elif alien_color == \"red\":\n",
    "    print(\"you got fifteen points\")"
   ]
  },
  {
   "cell_type": "markdown",
   "metadata": {},
   "source": [
    "# 人生的不同阶段"
   ]
  },
  {
   "cell_type": "code",
   "execution_count": 11,
   "metadata": {},
   "outputs": [
    {
     "name": "stdout",
     "output_type": "stream",
     "text": [
      "成年人的世界，好难\n"
     ]
    }
   ],
   "source": [
    "age = 24\n",
    "if age < 2:\n",
    "    print(\"真可爱，还是个宝宝\")\n",
    "elif age < 4:\n",
    "    print(\"叫我呀，我给你吃棒棒糖\")\n",
    "elif age < 13:\n",
    "    print(\"你就是祖国未来的花朵\")\n",
    "elif age < 20:\n",
    "    print(\"叛逆的青少年\")\n",
    "elif age < 65:\n",
    "    print(\"成年人的世界，好难\")\n",
    "elif age >= 65:\n",
    "    print(\"蓦然回首人已苍老\")"
   ]
  },
  {
   "cell_type": "code",
   "execution_count": 12,
   "metadata": {},
   "outputs": [
    {
     "name": "stdout",
     "output_type": "stream",
     "text": [
      "you really like apple.\n",
      "you really like orange.\n",
      "you really like watermelon\n"
     ]
    }
   ],
   "source": [
    "# 喜欢的水果\n",
    "favorite_fruits = ['apple', 'orange', 'watermelon']\n",
    "if 'apple' in favorite_fruits:\n",
    "    print(\"you really like apple.\")\n",
    "if 'orange' in favorite_fruits:\n",
    "    print(\"you really like orange.\")\n",
    "if 'watermelon' in favorite_fruits:\n",
    "    print(\"you really like watermelon\")"
   ]
  },
  {
   "cell_type": "code",
   "execution_count": null,
   "metadata": {},
   "outputs": [],
   "source": []
  }
 ],
 "metadata": {
  "kernelspec": {
   "display_name": "Python 3",
   "language": "python",
   "name": "python3"
  },
  "language_info": {
   "codemirror_mode": {
    "name": "ipython",
    "version": 3
   },
   "file_extension": ".py",
   "mimetype": "text/x-python",
   "name": "python",
   "nbconvert_exporter": "python",
   "pygments_lexer": "ipython3",
   "version": "3.7.6"
  }
 },
 "nbformat": 4,
 "nbformat_minor": 4
}
