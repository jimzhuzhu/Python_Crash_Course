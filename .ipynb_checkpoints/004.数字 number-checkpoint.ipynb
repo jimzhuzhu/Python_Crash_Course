{
 "cells": [
  {
   "cell_type": "markdown",
   "metadata": {},
   "source": [
    "# 数字"
   ]
  },
  {
   "cell_type": "markdown",
   "metadata": {},
   "source": [
    "## 整数 int"
   ]
  },
  {
   "cell_type": "code",
   "execution_count": 1,
   "metadata": {},
   "outputs": [
    {
     "name": "stdout",
     "output_type": "stream",
     "text": [
      "5\n",
      "1\n",
      "6\n",
      "1.5\n",
      "9\n",
      "1\n",
      "1\n"
     ]
    }
   ],
   "source": [
    "#  运算符\n",
    "print(2 + 3) # 加号\n",
    "print(3 - 2) # 减号\n",
    "print(3 * 2) # 乘号\n",
    "print(3 / 2) # 除\n",
    "print(3 ** 2) # 幂 乘方运算\n",
    "print(3 // 2) # 整除\n",
    "print(3 % 2) # 取余"
   ]
  },
  {
   "cell_type": "markdown",
   "metadata": {},
   "source": [
    "## 浮点数 float"
   ]
  },
  {
   "cell_type": "code",
   "execution_count": 3,
   "metadata": {},
   "outputs": [
    {
     "name": "stdout",
     "output_type": "stream",
     "text": [
      "0.2\n",
      "0.2\n",
      "0.30000000000000004\n",
      "0.30000000000000004\n"
     ]
    }
   ],
   "source": [
    "print(0.1 + 0.1)\n",
    "print(2 * 0.1)\n",
    "\n",
    "# 浮点数\n",
    "print(0.2 + 0.1)\n",
    "print(3 * 0.1)"
   ]
  },
  {
   "cell_type": "markdown",
   "metadata": {},
   "source": [
    "## 使用函数str() 避免类型错误"
   ]
  },
  {
   "cell_type": "code",
   "execution_count": 6,
   "metadata": {},
   "outputs": [
    {
     "name": "stdout",
     "output_type": "stream",
     "text": [
      "Happy 23rd Birthday!\n"
     ]
    }
   ],
   "source": [
    "# 生日快乐\n",
    "# str() int() 相互转换\n",
    "age = 23\n",
    "message = \"Happy \" + str(age) + \"rd Birthday!\"\n",
    "print(message)"
   ]
  },
  {
   "cell_type": "code",
   "execution_count": 8,
   "metadata": {},
   "outputs": [
    {
     "name": "stdout",
     "output_type": "stream",
     "text": [
      "8\n",
      "8\n",
      "8\n",
      "8\n",
      "请输入你最喜欢的数字6\n",
      "我最喜欢的数字是：6\n"
     ]
    }
   ],
   "source": [
    "# 小练习\n",
    "\n",
    "print(5 + 3)\n",
    "\n",
    "print(10 - 2)\n",
    "print(2 * 4)\n",
    "print(17 // 2) # 地板处\n",
    "\n",
    "number = input(\"请输入你最喜欢的数字\")\n",
    "print(\"我最喜欢的数字是：\" + str(number))"
   ]
  },
  {
   "cell_type": "code",
   "execution_count": null,
   "metadata": {},
   "outputs": [],
   "source": []
  }
 ],
 "metadata": {
  "kernelspec": {
   "display_name": "Python 3",
   "language": "python",
   "name": "python3"
  }
 },
 "nbformat": 4,
 "nbformat_minor": 4
}
