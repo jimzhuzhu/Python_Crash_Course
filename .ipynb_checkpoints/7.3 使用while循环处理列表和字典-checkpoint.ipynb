{
 "cells": [
  {
   "cell_type": "markdown",
   "id": "4b359497",
   "metadata": {},
   "source": [
    "# while处理列表和字典\n",
    "- for循环用于遍历列表，但不用于修改\n",
    "- while循环即可以遍历列表，也能更改，收集存储大量数据"
   ]
  },
  {
   "cell_type": "code",
   "execution_count": 2,
   "id": "fdeddffe",
   "metadata": {},
   "outputs": [
    {
     "name": "stdout",
     "output_type": "stream",
     "text": [
      "正在验证用户：Liuliu\n",
      "正在验证用户：Liuyuxia\n",
      "正在验证用户：Zhuxianfu\n",
      "\n",
      "下面的用户已经验证：\n",
      "Liuliu\n",
      "Liuyuxia\n",
      "Zhuxianfu\n"
     ]
    }
   ],
   "source": [
    "# 列表之间移动元素\n",
    "\n",
    "# 创建一个待验证的用户列表\n",
    "# 创建一个用于存储已验证的空列表\n",
    "un_users = ['zhuxianfu', 'liuyuxia', 'liuliu']\n",
    "users = []\n",
    "\n",
    "# 验证每个用户，直到没有未验证用户为止\n",
    "# 将每个经过验证的用户都移动到users列表\n",
    "while un_users:\n",
    "    current_user = un_users.pop() # 末尾弹出一个列表元素\n",
    "    \n",
    "    print('正在验证用户：' + current_user.title())\n",
    "    users.append(current_user)\n",
    "    \n",
    "print('\\n下面的用户已经验证：')\n",
    "for user in users:\n",
    "    print(user.title())"
   ]
  },
  {
   "cell_type": "code",
   "execution_count": 3,
   "id": "fb71bbc9",
   "metadata": {},
   "outputs": [
    {
     "name": "stdout",
     "output_type": "stream",
     "text": [
      "['dog', 'cat', 'panda', 'cat', 'tiger', 'cat', 'rabbit', 'dog']\n",
      "['dog', 'panda', 'tiger', 'rabbit', 'dog']\n"
     ]
    }
   ],
   "source": [
    "# remove() 删除特定值得所有列表元素，在for循环中只能删除一个\n",
    "pets = ['dog', 'cat', 'panda', 'cat', 'tiger', 'cat', 'rabbit', 'dog']\n",
    "print(pets)\n",
    "\n",
    "while 'cat' in pets:\n",
    "    pets.remove('cat')\n",
    "    \n",
    "print(pets)"
   ]
  },
  {
   "cell_type": "markdown",
   "id": "a84bf4ad",
   "metadata": {},
   "source": [
    "## 使用用户输入来填充字典"
   ]
  },
  {
   "cell_type": "code",
   "execution_count": 9,
   "id": "ce5d5aa4",
   "metadata": {},
   "outputs": [
    {
     "name": "stdout",
     "output_type": "stream",
     "text": [
      "请输入你的名字：朱献福\n",
      "你平时生活中最喜欢干什么？看电影\n",
      "还有其他人想参与的吗？（yes/ no)no\n",
      "\n",
      "--- 调查结果 ---\n",
      "{'朱献福': '看电影'}\n",
      "朱献福平时喜欢看电影.\n"
     ]
    }
   ],
   "source": [
    "# 创建一个调查程序\n",
    "\n",
    "responses = {}\n",
    "\n",
    "# 设置一个标志，指出调查是否继续\n",
    "active = True\n",
    "while active:\n",
    "    # 提示输入被调查者的名字和回答\n",
    "    name = input('请输入你的名字：')\n",
    "    response = input('你平时生活中最喜欢干什么？')\n",
    "    \n",
    "    # 将答案存储到字典\n",
    "    responses[name] = response\n",
    "    \n",
    "    # 看是否还有其他人要参与调查\n",
    "    repeat = input('还有其他人想参与的吗？（yes/ no)')\n",
    "    if repeat == 'no':\n",
    "        active = False\n",
    "        \n",
    "# 调查结果，显示字典\n",
    "print('\\n--- 调查结果 ---')\n",
    "print(responses)\n",
    "for name, response in responses.items():\n",
    "    print(name +'平时喜欢' + response + '.')"
   ]
  },
  {
   "cell_type": "markdown",
   "id": "8c7e444d",
   "metadata": {},
   "source": [
    "### 动手练习\n",
    "#### 熟食店 ：\n",
    "- 创建一个名为sandwich_orders 的列表，在其中包含各种三明治的名字；再创建一个名为finished_sandwiches 的空列表。遍历列 表sandwich_orders ，对于其中的每种三明治，都打印一条消息，如I made your tuna sandwich ，并将其移到列表finished_sandwiches 。所有三明治都制作好后，打印一条消息，将这些三明治列出来。"
   ]
  },
  {
   "cell_type": "code",
   "execution_count": 17,
   "id": "c0d03c42",
   "metadata": {},
   "outputs": [
    {
     "name": "stdout",
     "output_type": "stream",
     "text": [
      "我已经制作完成你的火腿三明治\n",
      "我已经制作完成你的水果三明治\n",
      "我已经制作完成你的烤肉三明治\n",
      "\n",
      "所有三明治都做好啦，请取餐！\n",
      "这是火腿三明治.\n",
      "这是水果三明治.\n",
      "这是烤肉三明治.\n",
      "['火腿三明治', '水果三明治', '烤肉三明治']\n"
     ]
    }
   ],
   "source": [
    "sandwich_orders = ['烤肉三明治', '水果三明治', '火腿三明治']\n",
    "finisher_sandwiches = []\n",
    "while sandwich_orders:\n",
    "    sandwich_order = sandwich_orders.pop()\n",
    "    print('我已经制作完成你的' + sandwich_order)\n",
    "    finisher_sandwiches.append(sandwich_order)\n",
    "    \n",
    "print('\\n所有三明治都做好啦，请取餐！')\n",
    "for finisher_sandwich in finisher_sandwiches:\n",
    "    print('这是' + finisher_sandwich + '.')\n",
    "print(finisher_sandwiches)"
   ]
  },
  {
   "cell_type": "code",
   "execution_count": 18,
   "id": "16d791ce",
   "metadata": {},
   "outputs": [
    {
     "name": "stdout",
     "output_type": "stream",
     "text": [
      "火腿三明治全部卖完啦！\n",
      "\n",
      "\n",
      "['水果三明治', '烤肉三明治']\n"
     ]
    }
   ],
   "source": [
    "# 删除列表中元素\n",
    "sandwich_orders = ['火腿三明治', '烤肉三明治', '火腿三明治', '水果三明治', '火腿三明治']\n",
    "finisher_sandwiches = []\n",
    "print('火腿三明治全部卖完啦！')\n",
    "while '火腿三明治' in sandwich_orders:\n",
    "        sandwich_orders.remove('火腿三明治')\n",
    "while sandwich_orders:\n",
    "    sandwich_order = sandwich_orders.pop()\n",
    "    finisher_sandwiches.append(sandwich_order)\n",
    "    \n",
    "print('\\n')\n",
    "print(finisher_sandwiches)"
   ]
  },
  {
   "cell_type": "markdown",
   "id": "0d5c81e3",
   "metadata": {},
   "source": [
    "### 梦想的度假胜地 ：编写一个程序，调查用户梦想的度假胜地。使用类似于“If you could visit one placein the world, where would you go?”的提示，并编写一个打印调查 结果的代码块。"
   ]
  },
  {
   "cell_type": "code",
   "execution_count": 20,
   "id": "cf08f780",
   "metadata": {},
   "outputs": [
    {
     "name": "stdout",
     "output_type": "stream",
     "text": [
      "请输入你的姓名：zhuxianfu\n",
      "如果你可以去参观某个地方，你想去哪里？shanghai\n",
      "还有其他人要参与调查吗 （yes / no)aa\n",
      "请输入你的姓名：liuyuxia\n",
      "如果你可以去参观某个地方，你想去哪里？beijing\n",
      "还有其他人要参与调查吗 （yes / no)no\n",
      "{'zhuxianfu': 'shanghai', 'liuyuxia': 'beijing'}\n",
      "zhuxianfu最想去参观的地方是：shanghai!\n",
      "liuyuxia最想去参观的地方是：beijing!\n"
     ]
    }
   ],
   "source": [
    "responses = {}\n",
    "active = True\n",
    "while active:\n",
    "    name = input('请输入你的姓名：')\n",
    "    response = input('如果你可以去参观某个地方，你想去哪里？')\n",
    "    responses[name] = response\n",
    "    \n",
    "    repeat = input('还有其他人要参与调查吗 （yes / no)')\n",
    "    if repeat == 'no':\n",
    "        active = False\n",
    "        \n",
    "print(responses)\n",
    "for name,response in responses.items():\n",
    "    print(name + \"最想去参观的地方是：\" + response + '!')"
   ]
  },
  {
   "cell_type": "code",
   "execution_count": null,
   "id": "244a6fbd",
   "metadata": {},
   "outputs": [],
   "source": []
  },
  {
   "cell_type": "code",
   "execution_count": null,
   "id": "80d9891b",
   "metadata": {},
   "outputs": [],
   "source": []
  },
  {
   "cell_type": "code",
   "execution_count": null,
   "id": "713fb67e",
   "metadata": {},
   "outputs": [],
   "source": []
  }
 ],
 "metadata": {
  "kernelspec": {
   "display_name": "Python 3",
   "language": "python",
   "name": "python3"
  },
  "language_info": {
   "codemirror_mode": {
    "name": "ipython",
    "version": 3
   },
   "file_extension": ".py",
   "mimetype": "text/x-python",
   "name": "python",
   "nbconvert_exporter": "python",
   "pygments_lexer": "ipython3",
   "version": "3.8.8"
  }
 },
 "nbformat": 4,
 "nbformat_minor": 5
}
