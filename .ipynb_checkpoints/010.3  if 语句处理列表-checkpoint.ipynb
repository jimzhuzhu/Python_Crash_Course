{
 "cells": [
  {
   "cell_type": "code",
   "execution_count": 1,
   "metadata": {},
   "outputs": [
    {
     "name": "stdout",
     "output_type": "stream",
     "text": [
      "Addingzhuxiaofu.\n",
      "Addingliuxiaoxia.\n",
      "Addingliuliu.\n",
      "\n",
      "完成了你的全家福\n"
     ]
    }
   ],
   "source": [
    "# 检查特殊元素\n",
    "family = ['zhuxiaofu', 'liuxiaoxia', 'liuliu']\n",
    "for name in family:\n",
    "    print(\"Adding\" + name +\".\")\n",
    "print(\"\\n完成了你的全家福\")"
   ]
  },
  {
   "cell_type": "code",
   "execution_count": 2,
   "metadata": {},
   "outputs": [
    {
     "name": "stdout",
     "output_type": "stream",
     "text": [
      "Addingzhuxiaofu.\n",
      "哈哈，这是我妻子\n",
      "Addingliuliu.\n",
      "\n",
      "完成了你的全家福\n"
     ]
    }
   ],
   "source": [
    "family = ['zhuxiaofu', 'liuxiaoxia', 'liuliu']\n",
    "for name in family:\n",
    "    if name == 'liuxiaoxia':\n",
    "        print(\"哈哈，这是我妻子\")\n",
    "    else:\n",
    "        print(\"Adding\" + name + \".\")\n",
    "print(\"\\n完成了你的全家福\")"
   ]
  },
  {
   "cell_type": "code",
   "execution_count": 5,
   "metadata": {},
   "outputs": [
    {
     "name": "stdout",
     "output_type": "stream",
     "text": [
      "全家福列表里面撒都没有呀\n"
     ]
    }
   ],
   "source": [
    "# 确认列表不是空的\n",
    "family = []\n",
    "if family:\n",
    "    for name in family:\n",
    "        print(\"添加\" + name + \".\")\n",
    "    print(\"\\n完成了全家福\")\n",
    "else:\n",
    "    print(\"全家福列表里面撒都没有呀\")"
   ]
  },
  {
   "cell_type": "code",
   "execution_count": 8,
   "metadata": {},
   "outputs": [
    {
     "name": "stdout",
     "output_type": "stream",
     "text": [
      "Adding mushrooms.\n",
      "Sorry, we don't have french fries.\n",
      "Adding extra cheese.\n",
      "\n",
      "Finished making your pizza!\n"
     ]
    }
   ],
   "source": [
    "# 使用多个列表\n",
    "available_toppings = ['mushrooms', 'olives', 'green peppers',\n",
    "                     'pepperoni', 'pineapple', 'extra cheese']\n",
    "requested_toppings = ['mushrooms', 'french fries', 'extra cheese']\n",
    "\n",
    "for requested_topping in requested_toppings:\n",
    "    if requested_topping in available_toppings:\n",
    "        print(\"Adding \" + requested_topping +\".\")\n",
    "    else:\n",
    "        print(\"Sorry, we don't have \" + requested_topping + \".\")\n",
    "        \n",
    "print(\"\\nFinished making your pizza!\")"
   ]
  },
  {
   "cell_type": "markdown",
   "metadata": {},
   "source": [
    "# 练习"
   ]
  },
  {
   "cell_type": "code",
   "execution_count": 10,
   "metadata": {},
   "outputs": [
    {
     "name": "stdout",
     "output_type": "stream",
     "text": [
      "Hello admin,would you like to see a status report?\n",
      "Hello zhuxiaofu, thank you for logging in again\n",
      "Hello liuyuxia, thank you for logging in again\n",
      "Hello invoker, thank you for logging in again\n",
      "Hello jimzhuzhu, thank you for logging in again\n",
      "We need to find some uses!\n"
     ]
    }
   ],
   "source": [
    "# 打招呼\n",
    "users = ['admin', 'zhuxiaofu', 'liuyuxia', 'invoker', 'jimzhuzhu']\n",
    "for user in  users:\n",
    "    if user == 'admin':\n",
    "        print(\"Hello admin,would you like to see a status report?\")\n",
    "    else:\n",
    "        print(\"Hello \" + user + \", thank you for logging in again\")\n",
    "users = []\n",
    "if users:\n",
    "    pass\n",
    "else:\n",
    "    print(\"We need to find some uses!\")"
   ]
  },
  {
   "cell_type": "code",
   "execution_count": 21,
   "metadata": {},
   "outputs": [
    {
     "name": "stdout",
     "output_type": "stream",
     "text": [
      "Zhuzhu已经存在，请输入别的用户名\n",
      "InVoker已经存在，请输入别的用户名\n",
      "candy这个用户名可以使用\n",
      "liuyuxia这个用户名可以使用\n",
      "mrichal这个用户名可以使用\n"
     ]
    }
   ],
   "source": [
    "# 检查用户名\n",
    "current_users = ['zhuzhu', 'liuliu', 'invoker', 'Kaka', 'admin']\n",
    "new_users = ['Zhuzhu', 'InVoker', 'candy', 'liuyuxia', 'mrichal']\n",
    "for n_user in new_users:\n",
    "        if n_user.lower() in current_users:\n",
    "            print(n_user + \"已经存在，请输入别的用户名\")\n",
    "        else:\n",
    "            print(n_user + \"这个用户名可以使用\")"
   ]
  },
  {
   "cell_type": "code",
   "execution_count": 24,
   "metadata": {},
   "outputs": [
    {
     "name": "stdout",
     "output_type": "stream",
     "text": [
      "1st\n",
      "2nd\n",
      "3rd\n",
      "4th\n",
      "5th\n",
      "6th\n",
      "7th\n",
      "8th\n",
      "9th\n"
     ]
    }
   ],
   "source": [
    "number = [1,2,3,4,5,6,7,8,9]\n",
    "for i in number:\n",
    "    if i == 1:\n",
    "        print(\"1st\")\n",
    "    elif i == 2:\n",
    "        print(\"2nd\")\n",
    "    elif i == 3:\n",
    "        print(\"3rd\")\n",
    "    else:\n",
    "        print(str(i) + \"th\")"
   ]
  },
  {
   "cell_type": "code",
   "execution_count": null,
   "metadata": {},
   "outputs": [],
   "source": []
  }
 ],
 "metadata": {
  "kernelspec": {
   "display_name": "Python 3",
   "language": "python",
   "name": "python3"
  },
  "language_info": {
   "codemirror_mode": {
    "name": "ipython",
    "version": 3
   },
   "file_extension": ".py",
   "mimetype": "text/x-python",
   "name": "python",
   "nbconvert_exporter": "python",
   "pygments_lexer": "ipython3",
   "version": "3.7.6"
  }
 },
 "nbformat": 4,
 "nbformat_minor": 4
}
