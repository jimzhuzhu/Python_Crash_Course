{
 "cells": [
  {
   "cell_type": "markdown",
   "id": "4bd35cd4",
   "metadata": {},
   "source": [
    "# 函数\n",
    "- 函数是带名字的代码块，用于完成某个具体的工作\n",
    "- 可以在程序多次调用\n",
    "## 函数编程优点\n",
    "- 编写\n",
    "- 阅读\n",
    "- 测试和修复\n",
    "# 函数定义\n",
    "- def xxx( ):\n",
    "    '''函数的作用'''\n",
    "    print('hello')\n",
    "    函数体-代码块"
   ]
  },
  {
   "cell_type": "code",
   "execution_count": 6,
   "id": "525705b9",
   "metadata": {
    "scrolled": true
   },
   "outputs": [
    {
     "name": "stdout",
     "output_type": "stream",
     "text": [
      "你好呀\n",
      "你好呀\n"
     ]
    }
   ],
   "source": [
    "# 定义一个函数\n",
    "def greet_user():\n",
    "    '''显示简单的问候语'''\n",
    "    print('你好呀')\n",
    "    \n",
    "greet_user()\n",
    "greet_user()"
   ]
  },
  {
   "cell_type": "code",
   "execution_count": 7,
   "id": "421ffe14",
   "metadata": {},
   "outputs": [
    {
     "name": "stdout",
     "output_type": "stream",
     "text": [
      "你好呀, liuyuxia\n",
      "你好呀, 11\n"
     ]
    }
   ],
   "source": [
    "# 向函数传递信息\n",
    "def greet_user(username):\n",
    "    '''显示简单的问候语'''\n",
    "    print('你好呀, {}'.format(username))\n",
    "    \n",
    "greet_user('liuyuxia')\n",
    "greet_user(11)"
   ]
  },
  {
   "cell_type": "markdown",
   "id": "22486547",
   "metadata": {},
   "source": [
    "# 实参和形参\n",
    "- 函数定义括号里的叫做形参\n",
    "- 函数调用括号里的叫做实参\n",
    "            \n",
    "            def user(self): # self是形参\n",
    "                print('lalal')\n",
    "            user(111)  # 111是实参"
   ]
  },
  {
   "cell_type": "code",
   "execution_count": 8,
   "id": "a06ecf96",
   "metadata": {},
   "outputs": [
    {
     "name": "stdout",
     "output_type": "stream",
     "text": [
      "我正在学习python中的函数\n"
     ]
    }
   ],
   "source": [
    "# 动手练习\n",
    "# 1\n",
    "def display_message():\n",
    "    '''打印一句话'''\n",
    "    print('我正在学习python中的函数')\n",
    "display_message()"
   ]
  },
  {
   "cell_type": "code",
   "execution_count": 12,
   "id": "485c5284",
   "metadata": {},
   "outputs": [
    {
     "name": "stdout",
     "output_type": "stream",
     "text": [
      "最爱的书是科幻小说是《三体》\n"
     ]
    }
   ],
   "source": [
    "#2 函数实例化调用\n",
    "def favorite_book(title):\n",
    "    print('最爱的书是科幻小说是《{}》'.format(title))\n",
    "favorite_book('三体')"
   ]
  },
  {
   "cell_type": "markdown",
   "id": "7ea3a84d",
   "metadata": {},
   "source": [
    "# 传递实参\n",
    "- 位置实参\n",
    "    \n",
    "- 关键字实参\n",
    "## 位置实参， 形参和实参调用时的顺序一致"
   ]
  },
  {
   "cell_type": "code",
   "execution_count": 25,
   "id": "d309b6b3",
   "metadata": {},
   "outputs": [
    {
     "name": "stdout",
     "output_type": "stream",
     "text": [
      "我有一个狗。\n",
      "狗的名字叫做欢欢\n",
      "我有一个猫。\n",
      "猫的名字叫做喵喵\n"
     ]
    }
   ],
   "source": [
    "def describe_pet(animal_type, pet_name):\n",
    "    '''显示宠物的信息'''\n",
    "    print('我有一个{}。'.format(animal_type))\n",
    "    print('{}的名字叫做{}'.format(animal_type, pet_name))\n",
    "    \n",
    "describe_pet('狗', '欢欢')\n",
    "describe_pet('猫', '喵喵')"
   ]
  },
  {
   "cell_type": "code",
   "execution_count": 26,
   "id": "5fa6709e",
   "metadata": {
    "scrolled": true
   },
   "outputs": [
    {
     "name": "stdout",
     "output_type": "stream",
     "text": [
      "我有一个欢欢。\n",
      "欢欢的名字叫做狗\n",
      "我有一个喵喵。\n",
      "喵喵的名字叫做猫\n"
     ]
    }
   ],
   "source": [
    "# 调用时注意实参的顺序\n",
    "\n",
    "def describe_pet(animal_type, pet_name):\n",
    "    print('我有一个{}。'.format(animal_type))\n",
    "    print('{}的名字叫做{}'.format(animal_type, pet_name))\n",
    "    \n",
    "describe_pet('欢欢', '狗')\n",
    "describe_pet('喵喵', '猫')"
   ]
  },
  {
   "cell_type": "markdown",
   "id": "11297170",
   "metadata": {},
   "source": [
    "### 关键字实参\n",
    "- 调用时会传递给函数一个值对，将实参中名称和值关联起来\n",
    "- 无需考虑调用中实参的顺序"
   ]
  },
  {
   "cell_type": "code",
   "execution_count": 29,
   "id": "3351da0c",
   "metadata": {},
   "outputs": [
    {
     "name": "stdout",
     "output_type": "stream",
     "text": [
      "我有一个狗。\n",
      "狗的名字叫做欢欢\n",
      "我有一个猫。\n",
      "猫的名字叫做喵喵\n"
     ]
    }
   ],
   "source": [
    "# 关键字实参 调用时形参名要准确\n",
    "def describe_pet(animal_type, pet_name):\n",
    "    '''显示宠物的信息'''\n",
    "    print('我有一个{}。'.format(animal_type))\n",
    "    print('{}的名字叫做{}'.format(animal_type, pet_name))\n",
    "    \n",
    "describe_pet(pet_name = '欢欢', animal_type = '狗')\n",
    "describe_pet(animal_type = '猫', pet_name = '喵喵')"
   ]
  },
  {
   "cell_type": "markdown",
   "id": "5520f7c3",
   "metadata": {},
   "source": [
    "## 默认值\n",
    "- 给形参指定默认值\n",
    "- 调用时给形参提供了实参，则用指定实参不用默认值\n",
    "- 调用时没有提供，则使用默认值\n",
    "### 默认值必须是在定义函数的最后一个形参"
   ]
  },
  {
   "cell_type": "code",
   "execution_count": 49,
   "id": "c0dd17bc",
   "metadata": {
    "scrolled": true
   },
   "outputs": [
    {
     "name": "stdout",
     "output_type": "stream",
     "text": [
      "我有一个狗.\n",
      "狗的名字叫做：欢欢\n",
      "我有一个狗.\n",
      "狗的名字叫做：草莓\n",
      "我有一个猫.\n",
      "猫的名字叫做：miaomiao\n",
      "我有一个熊猫.\n",
      "熊猫的名字叫做：天天\n"
     ]
    }
   ],
   "source": [
    "def describe_pet(pet_name, animal_type='狗'):\n",
    "    '''显示宠物的信息'''\n",
    "    print('我有一个' + animal_type + '.')\n",
    "    print(animal_type + '的名字叫做：' + pet_name)\n",
    "    \n",
    "describe_pet(pet_name = '欢欢')\n",
    "# 默认值放最后面，可省略关键实参\n",
    "describe_pet('草莓')\n",
    "\n",
    "# 给形参提供关键实参，则会忽略形参默认值\n",
    "describe_pet('miaomiao', animal_type='猫')\n",
    "\n",
    "# 关键字实参\n",
    "describe_pet(animal_type='熊猫', pet_name='天天')\n",
    "\n",
    "# 以上三种等效的函数调用都可以，使用最容易理解的方式"
   ]
  },
  {
   "cell_type": "markdown",
   "id": "1b439d07",
   "metadata": {},
   "source": [
    "### 避免实参错误\n",
    "- 跟形参数量不一致，太多或者太少\n",
    "- 形参拼写错误"
   ]
  },
  {
   "cell_type": "code",
   "execution_count": 50,
   "id": "0d622e15",
   "metadata": {},
   "outputs": [
    {
     "ename": "TypeError",
     "evalue": "describe_pet() missing 1 required positional argument: 'pet_name'",
     "output_type": "error",
     "traceback": [
      "\u001b[0;31m---------------------------------------------------------------------------\u001b[0m",
      "\u001b[0;31mTypeError\u001b[0m                                 Traceback (most recent call last)",
      "\u001b[0;32m<ipython-input-50-b5b7f97f6ab0>\u001b[0m in \u001b[0;36m<module>\u001b[0;34m\u001b[0m\n\u001b[1;32m      4\u001b[0m     \u001b[0mprint\u001b[0m\u001b[0;34m(\u001b[0m\u001b[0manimal_type\u001b[0m \u001b[0;34m+\u001b[0m \u001b[0;34m'的名字叫做：'\u001b[0m \u001b[0;34m+\u001b[0m \u001b[0mpet_name\u001b[0m\u001b[0;34m)\u001b[0m\u001b[0;34m\u001b[0m\u001b[0;34m\u001b[0m\u001b[0m\n\u001b[1;32m      5\u001b[0m \u001b[0;34m\u001b[0m\u001b[0m\n\u001b[0;32m----> 6\u001b[0;31m \u001b[0mdescribe_pet\u001b[0m\u001b[0;34m(\u001b[0m\u001b[0;34m)\u001b[0m\u001b[0;34m\u001b[0m\u001b[0;34m\u001b[0m\u001b[0m\n\u001b[0m",
      "\u001b[0;31mTypeError\u001b[0m: describe_pet() missing 1 required positional argument: 'pet_name'"
     ]
    }
   ],
   "source": [
    "def describe_pet(pet_name, animal_type='狗'):\n",
    "    '''显示宠物的信息'''\n",
    "    print('我有一个' + animal_type + '.')\n",
    "    print(animal_type + '的名字叫做：' + pet_name)\n",
    "    \n",
    "describe_pet()"
   ]
  },
  {
   "cell_type": "markdown",
   "id": "f30c1e56",
   "metadata": {},
   "source": [
    "# 函数编程小练习"
   ]
  },
  {
   "cell_type": "markdown",
   "id": "a99f675d",
   "metadata": {},
   "source": [
    "### 编写一个名为make_shirt() 的函数，它接受一个尺码以及要印到T恤上的字样。这个函数应打印一个句子，概要地说明T恤的尺码和字样。"
   ]
  },
  {
   "cell_type": "code",
   "execution_count": 53,
   "id": "70714714",
   "metadata": {},
   "outputs": [
    {
     "name": "stdout",
     "output_type": "stream",
     "text": [
      "这个T恤的尺寸是：17.\n",
      "上面会打印一句话：woaini.\n",
      "这个T恤的尺寸是：100.\n",
      "上面会打印一句话：一切皆有可能.\n"
     ]
    }
   ],
   "source": [
    "def make_shirt(size, font):\n",
    "    '''概要说明T恤的尺寸和字样'''\n",
    "    print('这个T恤的尺寸是：' + str(size) + '.')\n",
    "    print('上面会打印一句话：' + font + '.')\n",
    "    \n",
    "make_shirt(17,'woaini') # 位置实参调用\n",
    "make_shirt(font='一切皆有可能', size=100) # 关键字实参调用"
   ]
  },
  {
   "cell_type": "code",
   "execution_count": 56,
   "id": "079fa8f7",
   "metadata": {},
   "outputs": [
    {
     "name": "stdout",
     "output_type": "stream",
     "text": [
      "这个T恤的尺寸是：100.\n",
      "上面会打印一句话：I love python.\n",
      "这个T恤的尺寸是：50.\n",
      "上面会打印一句话：I love liuyuxia.\n"
     ]
    }
   ],
   "source": [
    "def make_shirt(size, font='I love python'):\n",
    "    '''概要说明T恤的尺寸和字样'''\n",
    "    print('这个T恤的尺寸是：' + str(size) + '.')\n",
    "    print('上面会打印一句话：' + font + '.')\n",
    "make_shirt(100)\n",
    "make_shirt(50,font='I love liuyuxia')"
   ]
  },
  {
   "cell_type": "markdown",
   "id": "f7a60f59",
   "metadata": {},
   "source": [
    "### 编写一个名为describe_city() 的函数，它接受一座城市的名字以及该城市所属的国家。这个函数应打印一个简单的句子，如Reykjavik is in Iceland 。给用于存储国家的形参指定默认值。为三座不同的城市调用这个函数，且其中至少有一座城市不属于默认国家。"
   ]
  },
  {
   "cell_type": "code",
   "execution_count": 62,
   "id": "8bdcc0aa",
   "metadata": {},
   "outputs": [
    {
     "name": "stdout",
     "output_type": "stream",
     "text": [
      "请输入一个城市：上海\n",
      "上海是中国的城市！\n",
      "请输入一个城市：北京\n",
      "北京是中国的城市！\n",
      "请输入一个城市：华盛顿\n",
      "华盛顿是美国的城市！\n"
     ]
    }
   ],
   "source": [
    "def describe_city(city_name, city_country='中国'):\n",
    "    '''接受一个城市以及所在的国家'''\n",
    "    city_name = input('请输入一个城市：')\n",
    "    print(city_name + '是' + city_country + '的城市！')\n",
    "describe_city(city_name='')\n",
    "describe_city(city_name='')\n",
    "describe_city(city_name='', city_country='美国')"
   ]
  }
 ],
 "metadata": {
  "kernelspec": {
   "display_name": "Python 3",
   "language": "python",
   "name": "python3"
  },
  "language_info": {
   "codemirror_mode": {
    "name": "ipython",
    "version": 3
   },
   "file_extension": ".py",
   "mimetype": "text/x-python",
   "name": "python",
   "nbconvert_exporter": "python",
   "pygments_lexer": "ipython3",
   "version": "3.8.8"
  }
 },
 "nbformat": 4,
 "nbformat_minor": 5
}
