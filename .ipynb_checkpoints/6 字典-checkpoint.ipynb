{
 "cells": [
  {
   "cell_type": "markdown",
   "metadata": {},
   "source": [
    "# 字典dict\n",
    "- { }\n",
    "- 键值对  key:value\n",
    "    \n",
    "        dict = {'zhuxiaofu': 'me', 'liuxiaoxia': 'wife'}"
   ]
  },
  {
   "cell_type": "code",
   "execution_count": 1,
   "metadata": {},
   "outputs": [
    {
     "name": "stdout",
     "output_type": "stream",
     "text": [
      "green\n",
      "5\n"
     ]
    }
   ],
   "source": [
    "# 访问字典的值\n",
    "alien_0 = {'color': 'green', 'points': 5}\n",
    "print(alien_0['color'])\n",
    "print(alien_0['points'])\n",
    "# 访问键，输出对应的值"
   ]
  },
  {
   "cell_type": "code",
   "execution_count": 2,
   "metadata": {},
   "outputs": [
    {
     "name": "stdout",
     "output_type": "stream",
     "text": [
      "{'color': 'green', 'points': 5}\n",
      "{'color': 'green', 'points': 5, 'x_position': 0, 'y_position': 25}\n"
     ]
    }
   ],
   "source": [
    "# 添加键值对\n",
    "alien_0 = {'color': 'green', 'points': 5}\n",
    "print(alien_0)\n",
    "alien_0['x_position'] = 0\n",
    "alien_0['y_position'] = 25\n",
    "print(alien_0)"
   ]
  },
  {
   "cell_type": "code",
   "execution_count": 4,
   "metadata": {},
   "outputs": [
    {
     "name": "stdout",
     "output_type": "stream",
     "text": [
      "{'color': 'green', 'points': 5}\n"
     ]
    }
   ],
   "source": [
    "# 创建空的字典\n",
    "alien_0 = {}\n",
    "alien_0['color'] = 'green'\n",
    "alien_0['points'] = 5\n",
    "print(alien_0)"
   ]
  },
  {
   "cell_type": "code",
   "execution_count": 9,
   "metadata": {},
   "outputs": [
    {
     "name": "stdout",
     "output_type": "stream",
     "text": [
      "The alien is green.\n",
      "The alien is yellow.\n"
     ]
    }
   ],
   "source": [
    "# 修改字典中的值1\n",
    "alien_0 = {'color': 'green'}\n",
    "print(\"The alien is \" + alien_0['color'] + \".\")\n",
    "alien_0['color'] = 'yellow'\n",
    "print(\"The alien is \" + alien_0['color'] + \".\")"
   ]
  },
  {
   "cell_type": "code",
   "execution_count": 11,
   "metadata": {},
   "outputs": [
    {
     "name": "stdout",
     "output_type": "stream",
     "text": [
      "Original x-position: 0\n",
      "New x_position: 2\n"
     ]
    }
   ],
   "source": [
    "# 外星人的位置跟踪\n",
    "alien_0 = {'x_position': 0, 'y_position': 25, 'speed': 'medium'}\n",
    "print(\"Original x-position: \" + str(alien_0['x_position']))\n",
    "\n",
    "# 向右移动外星人\n",
    "# 根据外星人当前速度决定移动多远\n",
    "if alien_0['speed'] == 'slow':\n",
    "    x_increment = 1\n",
    "elif alien_0['speed'] == 'medium':\n",
    "    x_increment = 2\n",
    "else:\n",
    "    # 外星人速度很快\n",
    "    x_increment = 3\n",
    "# 新位置等于老位置加上增量\n",
    "alien_0['x_position'] = alien_0['x_position'] + x_increment\n",
    "print(\"New x_position: \" + str(alien_0['x_position']))"
   ]
  },
  {
   "cell_type": "code",
   "execution_count": 3,
   "metadata": {},
   "outputs": [
    {
     "name": "stdout",
     "output_type": "stream",
     "text": [
      "{'color': 'green', 'points': 5}\n",
      "{'color': 'green', 'points': 10}\n"
     ]
    }
   ],
   "source": [
    "# 删除键值对\n",
    "alien_0 = {'color': 'green', 'points': 5}\n",
    "print(alien_0)\n",
    "del alien_0['points']\n",
    "alien_0['points'] = 10\n",
    "print(alien_0)"
   ]
  },
  {
   "cell_type": "code",
   "execution_count": 16,
   "metadata": {},
   "outputs": [
    {
     "name": "stdout",
     "output_type": "stream",
     "text": [
      "zhuxiaofu favorite language is Python.\n"
     ]
    }
   ],
   "source": [
    "# 类似对象组成的字典\n",
    "favorite_language = {'jen': 'python', 'sarah': 'c', \n",
    "                     'phil': 'java','zhuxiaofu': 'python'}\n",
    "print(\"zhuxiaofu favorite language is \" + \n",
    "      favorite_language['zhuxiaofu'].title() + \".\")"
   ]
  },
  {
   "cell_type": "markdown",
   "metadata": {},
   "source": [
    "# 练习"
   ]
  },
  {
   "cell_type": "code",
   "execution_count": 17,
   "metadata": {},
   "outputs": [
    {
     "name": "stdout",
     "output_type": "stream",
     "text": [
      "liuxiaoxia\n",
      "25\n",
      "danyang\n"
     ]
    }
   ],
   "source": [
    "# 人\n",
    "person = {'name': 'liuxiaoxia', 'age': 25, 'city': 'danyang'}\n",
    "print(person['name'])\n",
    "print(person['age'])\n",
    "print(person['city'])"
   ]
  },
  {
   "cell_type": "code",
   "execution_count": 2,
   "metadata": {},
   "outputs": [
    {
     "name": "stdout",
     "output_type": "stream",
     "text": [
      "2018.07.07\n",
      "1995.01.22\n",
      "1995.10.18\n",
      "2018.07.07\n",
      "你好， liuliu这是你正确的生日时间吗？\n",
      "1995.01.22\n",
      "你好， liuxiaoxia这是你正确的生日时间吗？\n",
      "1995.10.18\n",
      "你好， zhuxiaofu这是你正确的生日时间吗？\n"
     ]
    }
   ],
   "source": [
    "# 喜欢的数字\n",
    "birthday = {'liuliu': '2018.07.07', \n",
    "            'liuxiaoxia': '1995.01.22', \n",
    "            'zhuxiaofu': '1995.10.18',}\n",
    "print(birthday['liuliu'])\n",
    "print(birthday['liuxiaoxia'])\n",
    "print(birthday['zhuxiaofu'])\n",
    "for i in birthday:\n",
    "    print(birthday[i])\n",
    "    print(\"你好， \" + i + \"这是你正确的生日时间吗？\")"
   ]
  },
  {
   "cell_type": "code",
   "execution_count": 26,
   "metadata": {},
   "outputs": [
    {
     "name": "stdout",
     "output_type": "stream",
     "text": [
      "str:字符串\n",
      "dict:字典\n",
      "set:集合\n",
      "list:列表\n",
      "tuple:元组\n",
      "str: 字符串\n",
      "dict: 字典\n",
      "set: 集合\n",
      "list: 列表\n",
      "tuple: 元组\n"
     ]
    }
   ],
   "source": [
    "# 词汇表1\n",
    "glossary = {\"str\": \"字符串\",\n",
    "            \"dict\": \"字典\",\n",
    "            \"set\": \"集合\",\n",
    "            \"list\": \"列表\",\n",
    "            'tuple': \"元组\"}\n",
    "for i in glossary:\n",
    "    print(i + \":\" + glossary[i])\n",
    "for key, value in glossary.items():\n",
    "    print(key + \": \" + value)"
   ]
  },
  {
   "cell_type": "markdown",
   "metadata": {},
   "source": [
    "# 遍历字典\n",
    "- 遍历所有键值对 for key, value in dict.items:\n",
    "- 遍历键 for key in dict.keys:\n",
    "- 遍历值 for value in dicr.values:"
   ]
  },
  {
   "cell_type": "code",
   "execution_count": 5,
   "metadata": {},
   "outputs": [
    {
     "name": "stdout",
     "output_type": "stream",
     "text": [
      "{'username': 'zhuxiaofu', 'first': 'haha', 'last': 'kaka'}\n",
      "\n",
      "Key: username\n",
      "\n",
      "Value: zhuxiaofu\n",
      "\n",
      "Key: first\n",
      "\n",
      "Value: haha\n",
      "\n",
      "Key: last\n",
      "\n",
      "Value: kaka\n",
      "{'a': 1, 'b': 2, 'c': 3}\n",
      "a 1\n",
      "b 2\n",
      "c 3\n"
     ]
    }
   ],
   "source": [
    "# 网站存储信息\n",
    "user_0 = {'username': 'zhuxiaofu',\n",
    "          'first': 'haha',\n",
    "          'last': 'kaka'}\n",
    "print(user_0)\n",
    "for key, value in user_0.items():\n",
    "# for k ,v in user_0.items():\n",
    "    print(\"\\nKey: \" + key)\n",
    "    print(\"\\nValue: \" + value)\n",
    "    \n",
    "user_pass = {'a':1,\n",
    "              'b':2,\n",
    "              'c':3\n",
    "             }\n",
    "print(user_pass)\n",
    "for k,v in user_pass.items():\n",
    "    print(k,v)"
   ]
  },
  {
   "cell_type": "code",
   "execution_count": 6,
   "metadata": {},
   "outputs": [
    {
     "name": "stdout",
     "output_type": "stream",
     "text": [
      "Jen's favorite language is C++.\n",
      "Sarah's favorite language is C.\n",
      "Phil's favorite language is Java.\n",
      "Zhuxiaofu's favorite language is Python.\n"
     ]
    }
   ],
   "source": [
    "# 遍历有许多键值对的字典\n",
    "favorite_language = {'jen': 'c++',\n",
    "                     'sarah': 'c',\n",
    "                     'phil': 'java',\n",
    "                     'zhuxiaofu': 'python'}\n",
    "for name, language in favorite_language.items():\n",
    "    print(name.title() + \"'s favorite language is \" + language.title() + \".\")"
   ]
  },
  {
   "cell_type": "markdown",
   "metadata": {},
   "source": [
    "## 遍历字典中所有的键"
   ]
  },
  {
   "cell_type": "code",
   "execution_count": 30,
   "metadata": {},
   "outputs": [
    {
     "name": "stdout",
     "output_type": "stream",
     "text": [
      "Jen\n",
      "Sarah\n",
      "Phil\n",
      "Zhuxiaofu\n"
     ]
    }
   ],
   "source": [
    "favorite_language = {'jen': 'python',\n",
    "                     'sarah': 'c',\n",
    "                     'phil': 'java',\n",
    "                     'zhuxiaofu': 'python'}\n",
    "for name in favorite_language.keys():\n",
    "# 遍历字典默认所有的键，可替换成\n",
    "# for name in favorite_language():\n",
    "    print(name.title())"
   ]
  },
  {
   "cell_type": "code",
   "execution_count": 34,
   "metadata": {},
   "outputs": [
    {
     "name": "stdout",
     "output_type": "stream",
     "text": [
      "Jen: Python\n",
      "Sarah: C\n",
      "Phil: Java\n",
      "Zhuxiaofu: Python\n",
      "原来你已经接受过调查啦\n"
     ]
    }
   ],
   "source": [
    "# 可使用当前键来访问相关联的值\n",
    "favorite_language = {'jen': 'python',\n",
    "                     'sarah': 'c',\n",
    "                     'phil': 'java',\n",
    "                     'zhuxiaofu': 'python'}\n",
    "for name in favorite_language.keys():\n",
    "    print(name.title() + \": \" + favorite_language[name].title())\n",
    "# 判断键是否在key返回的列表中\n",
    "if 'zhuxiaofu' not in favorite_language.keys():\n",
    "    print(\"zhuxiaofu, please take our poll !\")\n",
    "else:\n",
    "    print(\"原来你已经接受过调查啦\")"
   ]
  },
  {
   "cell_type": "markdown",
   "metadata": {},
   "source": [
    "## 遍历字典中所有的值\n",
    "- for value in dict.values():"
   ]
  },
  {
   "cell_type": "code",
   "execution_count": 35,
   "metadata": {},
   "outputs": [
    {
     "name": "stdout",
     "output_type": "stream",
     "text": [
      "python\n",
      "c\n",
      "java\n",
      "python\n"
     ]
    }
   ],
   "source": [
    "favorite_language = {'jen': 'python',\n",
    "                     'sarah': 'c',\n",
    "                     'phil': 'java',\n",
    "                     'zhuxiaofu': 'python'}\n",
    "for language in favorite_language.values():\n",
    "    print(language)"
   ]
  },
  {
   "cell_type": "code",
   "execution_count": 36,
   "metadata": {},
   "outputs": [
    {
     "name": "stdout",
     "output_type": "stream",
     "text": [
      "python\n",
      "c\n",
      "java\n"
     ]
    }
   ],
   "source": [
    "# 上述用法没有考虑重复，涉及值很多时，可能包含大量重复项\n",
    "# 为剔除，可使用集合 set ， 类似于列表，但每个元素都必须独一无二\n",
    "favorite_language = {'jen': 'python',\n",
    "                     'sarah': 'c',\n",
    "                     'phil': 'java',\n",
    "                     'zhuxiaofu': 'python'}\n",
    "for language in set(favorite_language.values()):\n",
    "    print(language)"
   ]
  },
  {
   "cell_type": "code",
   "execution_count": 37,
   "metadata": {},
   "outputs": [
    {
     "name": "stdout",
     "output_type": "stream",
     "text": [
      "Beijing is the capital of China\n",
      "Paris is the capital of France\n",
      "Washington is the capital of United States\n"
     ]
    }
   ],
   "source": [
    "# 练习—国家和城市\n",
    "countrys = {\"beijing\": \"china\", \"paris\": \"france\", \"washington\": \"united states\"}\n",
    "for city, country in countrys.items():\n",
    "    print(city.title() + \" is the capital of \" + country.title())"
   ]
  },
  {
   "cell_type": "code",
   "execution_count": 40,
   "metadata": {},
   "outputs": [
    {
     "name": "stdout",
     "output_type": "stream",
     "text": [
      "Beijing\n",
      "Paris\n",
      "Washington\n"
     ]
    }
   ],
   "source": [
    "for city in countrys.keys():\n",
    "    print(city.title())"
   ]
  },
  {
   "cell_type": "code",
   "execution_count": 41,
   "metadata": {},
   "outputs": [
    {
     "name": "stdout",
     "output_type": "stream",
     "text": [
      "China\n",
      "France\n",
      "United States\n"
     ]
    }
   ],
   "source": [
    "for country in countrys.values():\n",
    "    print(country.title())"
   ]
  },
  {
   "cell_type": "markdown",
   "metadata": {},
   "source": [
    "# 嵌套\n",
    "- 字典嵌套列表\n",
    "- 列表嵌套字典"
   ]
  },
  {
   "cell_type": "code",
   "execution_count": 46,
   "metadata": {},
   "outputs": [
    {
     "name": "stdout",
     "output_type": "stream",
     "text": [
      "{'color': 'green', 'points': 5}\n",
      "{'color': 'yellow', 'points': 10}\n",
      "{'color': 'red', 'points': 15}\n"
     ]
    }
   ],
   "source": [
    "# 字典嵌套列表\n",
    "# 一个外星人字典只能存储一个信息，可制作多个字典放在一个列表中\n",
    "alien_0 = {'color': 'green', 'points': 5}\n",
    "alien_1 = {'color': 'yellow', 'points': 10}\n",
    "alien_2 = {'color': 'red', 'points': 15}\n",
    "aliens = [alien_0, alien_1, alien_2]\n",
    "for alien in aliens:\n",
    "    print(alien)"
   ]
  },
  {
   "cell_type": "code",
   "execution_count": 50,
   "metadata": {},
   "outputs": [
    {
     "name": "stdout",
     "output_type": "stream",
     "text": [
      "{'color': 'green', 'points': '5', 'speed': 'slow'}\n",
      "{'color': 'green', 'points': '5', 'speed': 'slow'}\n",
      "{'color': 'green', 'points': '5', 'speed': 'slow'}\n",
      "{'color': 'green', 'points': '5', 'speed': 'slow'}\n",
      "{'color': 'green', 'points': '5', 'speed': 'slow'}\n",
      "...\n",
      "Total number of aliens: 30\n"
     ]
    }
   ],
   "source": [
    "# 外星人代码自动生成，可使用range()函数\n",
    "# 创建一个空的列表来存储外星人\n",
    "aliens = []\n",
    "# 创建30个绿色的外星人\n",
    "for alien_number in range(30):\n",
    "    new_alien = {'color': 'green', 'points': '5', 'speed': 'slow'}\n",
    "    aliens.append(new_alien)\n",
    "# 显示前5个外星人\n",
    "for alien in aliens[:5]:\n",
    "    print(alien)\n",
    "print(\"...\")\n",
    "# 显示创建了多少个外星人\n",
    "print(\"Total number of aliens: \" + str(len(aliens)))"
   ]
  },
  {
   "cell_type": "code",
   "execution_count": 51,
   "metadata": {},
   "outputs": [
    {
     "name": "stdout",
     "output_type": "stream",
     "text": [
      "{'color': 'yellow', 'points': '10', 'speed': 'medium'}\n",
      "{'color': 'yellow', 'points': '10', 'speed': 'medium'}\n",
      "{'color': 'yellow', 'points': '10', 'speed': 'medium'}\n",
      "{'color': 'green', 'points': '5', 'speed': 'slow'}\n",
      "{'color': 'green', 'points': '5', 'speed': 'slow'}\n"
     ]
    }
   ],
   "source": [
    "# 修改前3个外星人的信息\n",
    "aliens = []\n",
    "# 创建30个绿色的外星人\n",
    "for alien_number in range(30):\n",
    "    new_alien = {'color': 'green', 'points': '5', 'speed': 'slow'}\n",
    "    aliens.append(new_alien)\n",
    "# 显示前5个外星人\n",
    "for alien in aliens[0:3]:\n",
    "    if alien['color'] == 'green':\n",
    "        alien['color'] = 'yellow'\n",
    "        alien['speed'] = 'medium'\n",
    "        alien['points'] = '10'\n",
    "    # 还可以使用elif代码块，进一步扩展\n",
    "# 显示前5个外星人\n",
    "for alien in aliens[0:5]:\n",
    "    print(alien)"
   ]
  },
  {
   "cell_type": "markdown",
   "metadata": {},
   "source": [
    "## 在字典中存储列表\n",
    "- 一个键上关联多个值，都可以在字典中嵌套一个列表\n",
    "- 嵌套层级不应太多"
   ]
  },
  {
   "cell_type": "code",
   "execution_count": 55,
   "metadata": {},
   "outputs": [
    {
     "name": "stdout",
     "output_type": "stream",
     "text": [
      "You ordered a thick-crust pizza with the floowing toppings:\n",
      "\tmushrooms\n",
      "\textra cheese\n"
     ]
    }
   ],
   "source": [
    "# 存储所点披萨的信息\n",
    "pizza = {'crust': 'thick',\n",
    "        'toppings': ['mushrooms', 'extra cheese']}\n",
    "# 概述所点的披萨\n",
    "print(\"You ordered a \" + pizza['crust'] + \"-crust pizza \" +\n",
    "     \"with the floowing toppings:\")\n",
    "for topping in pizza['toppings']:\n",
    "    print(\"\\t\" + topping)"
   ]
  },
  {
   "cell_type": "code",
   "execution_count": 59,
   "metadata": {},
   "outputs": [
    {
     "name": "stdout",
     "output_type": "stream",
     "text": [
      "\n",
      "Jen's favorite language are: \n",
      "\tPython\n",
      "\tC\n",
      "\n",
      "Sarah's favorite language are: \n",
      "\tC\n",
      "\n",
      "Phil's favorite language are: \n",
      "\tJava\n",
      "\n",
      "Zhuxiaofu's favorite language are: \n",
      "\tPython\n",
      "\tJava\n"
     ]
    }
   ],
   "source": [
    "favorite_language = {'jen': ['python', 'c'],\n",
    "                     'sarah': ['c'],\n",
    "                     'phil': ['java'],\n",
    "                     'zhuxiaofu': ['python', 'java']}\n",
    "for name, languages in favorite_language.items():\n",
    "    print(\"\\n\" + name.title() + \"'s favorite language are: \")\n",
    "    for language in languages:\n",
    "        print(\"\\t\" + language.title())"
   ]
  },
  {
   "cell_type": "code",
   "execution_count": 73,
   "metadata": {},
   "outputs": [
    {
     "name": "stdout",
     "output_type": "stream",
     "text": [
      "\n",
      "Jen's favorite language are: \n",
      "\tPython\n",
      "\tC\n",
      "\n",
      "Sarah's favorite language is C\n",
      "\n",
      "Phil's favorite language is Java\n",
      "\n",
      "Zhuxiaofu's favorite language are: \n",
      "\tPython\n",
      "\tJava\n"
     ]
    }
   ],
   "source": [
    "# 优化上述程序\n",
    "favorite_language = {'jen': ['python', 'c'],\n",
    "                     'sarah': ['c'],\n",
    "                     'phil': ['java'],\n",
    "                     'zhuxiaofu': ['python', 'java']}\n",
    "for name, languages in favorite_language.items():\n",
    "    if int(len(languages)) == 1:\n",
    "        print(\"\\n\" + name.title() + \"'s favorite language is \" + languages[0].title())\n",
    "    else:\n",
    "        print(\"\\n\" + name.title() + \"'s favorite language are: \")\n",
    "        for language in languages:\n",
    "            print(\"\\t\" + language.title())"
   ]
  },
  {
   "cell_type": "markdown",
   "metadata": {},
   "source": [
    "## 在字典中存储字典"
   ]
  },
  {
   "cell_type": "code",
   "execution_count": 78,
   "metadata": {},
   "outputs": [
    {
     "name": "stdout",
     "output_type": "stream",
     "text": [
      "\n",
      "The basic information of the user_1 is:\n",
      "\tName: Zhuxiaofu\n",
      "\tAge: 25\n",
      "\tBirthday: 10.18\n",
      "\n",
      "The basic information of the user_2 is:\n",
      "\tName: Liuxiaoxia\n",
      "\tAge: 25\n",
      "\tBirthday: 01.22\n",
      "\n",
      "The basic information of the user_3 is:\n",
      "\tName: Liuliu\n",
      "\tAge: 2\n",
      "\tBirthday: 07.07\n"
     ]
    }
   ],
   "source": [
    "# 例如有多个网站用户，每个都有独特的用户名\n",
    "# 将用户名作为键，把用户信息存储在字典中，作为值value\n",
    "users={'user_1': {'name': 'zhuxiaofu', 'age': '25', 'birthday': '10.18'},\n",
    "      'user_2': {'name': 'liuxiaoxia', 'age': '25', 'birthday': '01.22'},\n",
    "      'user_3': {'name': 'liuliu', 'age': '2', 'birthday': '07.07'},}\n",
    "for user, information in users.items():\n",
    "    print(\"\\n\" + \"The basic information of the \" + user + ' is:')\n",
    "    for user_name, user_info in information.items():\n",
    "        print(\"\\t\" + user_name.title() + \": \" + user_info.title())"
   ]
  },
  {
   "cell_type": "markdown",
   "metadata": {},
   "source": [
    "## 练习"
   ]
  },
  {
   "cell_type": "code",
   "execution_count": 79,
   "metadata": {},
   "outputs": [
    {
     "name": "stdout",
     "output_type": "stream",
     "text": [
      "{'name': 'wacai', 'age': '6', 'master': 'zhuxiaofu'}\n",
      "{'name': 'mimi', 'age': '3', 'master': 'liuxiaoxia'}\n",
      "{'name': 'baibai', 'age': '2', 'master': 'liuliu'}\n"
     ]
    }
   ],
   "source": [
    "# 宠物\n",
    "dog = {'name': 'wacai', 'age': '6', 'master': 'zhuxiaofu'}\n",
    "cat = {'name': 'mimi', 'age': '3', 'master': 'liuxiaoxia'}\n",
    "rabbit = {'name': 'baibai', 'age': '2', 'master': 'liuliu'}\n",
    "pets = [dog, cat, rabbit]\n",
    "for pet in pets:\n",
    "    print(pet)"
   ]
  },
  {
   "cell_type": "code",
   "execution_count": 81,
   "metadata": {},
   "outputs": [
    {
     "name": "stdout",
     "output_type": "stream",
     "text": [
      "\n",
      "朱小福最喜欢的地方是： \n",
      "\t北京天安门\n",
      "\t上海东方明珠\n",
      "\t西安兵马俑\n",
      "\n",
      "刘小霞最喜欢的地方是： \n",
      "\t杭州西湖\n",
      "\t巴黎香榭大道\n",
      "\n",
      "溜溜最喜欢的地方是： \n",
      "\t南京红山动物园\n"
     ]
    }
   ],
   "source": [
    "# 喜欢的地方\n",
    "favorite_places = {\"朱小福\": [\"北京天安门\", \"上海东方明珠\", \"西安兵马俑\"],\n",
    "                  \"刘小霞\": [\"杭州西湖\", \"巴黎香榭大道\"],\n",
    "                  \"溜溜\": [\"南京红山动物园\"],}\n",
    "for name, places in favorite_places.items():\n",
    "    print(\"\\n\" + name + \"最喜欢的地方是： \")\n",
    "    for place in places:\n",
    "        print(\"\\t\" + place)"
   ]
  },
  {
   "cell_type": "code",
   "execution_count": null,
   "metadata": {},
   "outputs": [],
   "source": []
  }
 ],
 "metadata": {
  "kernelspec": {
   "display_name": "Python 3",
   "language": "python",
   "name": "python3"
  },
  "language_info": {
   "codemirror_mode": {
    "name": "ipython",
    "version": 3
   },
   "file_extension": ".py",
   "mimetype": "text/x-python",
   "name": "python",
   "nbconvert_exporter": "python",
   "pygments_lexer": "ipython3",
   "version": "3.8.8"
  }
 },
 "nbformat": 4,
 "nbformat_minor": 4
}
