{
 "cells": [
  {
   "cell_type": "markdown",
   "id": "e5b9b0ad",
   "metadata": {},
   "source": [
    "# 返回值\n",
    "- 函数并非总是直接print输出\n",
    "- 更多的会处理一些数据，并返回一个或一组值\n",
    "## return语句\n",
    "- 将值返回到调用函数的代码行"
   ]
  },
  {
   "cell_type": "code",
   "execution_count": 6,
   "id": "3436222f",
   "metadata": {},
   "outputs": [
    {
     "name": "stdout",
     "output_type": "stream",
     "text": [
      "None\n"
     ]
    }
   ],
   "source": [
    "# 返回简单值，将接受的姓名返回\n",
    "def get_formatted_name(firstname, lastname):\n",
    "    '''返回整洁的姓名'''\n",
    "    full_name = firstname + ' ' + lastname\n",
    "    return full_name.title()\n",
    "name = get_formatted_name('zhu', 'xiaofu')\n",
    "print(name)"
   ]
  },
  {
   "cell_type": "code",
   "execution_count": 17,
   "id": "6df25f40",
   "metadata": {},
   "outputs": [
    {
     "name": "stdout",
     "output_type": "stream",
     "text": [
      "朱 献福\n",
      "Zhu 献福\n",
      "Liu Yuxia\n"
     ]
    }
   ],
   "source": [
    "# 让实参变成可选的\n",
    "def get_formatted_name(first_name, middle_name, last_name):\n",
    "    full_name = first_name + ' ' + middle_name + last_name\n",
    "    return full_name\n",
    "\n",
    "name = get_formatted_name('朱', '献', '福')\n",
    "print(name)\n",
    "\n",
    "# 为了让中间名可选，可以给middle——name一个空的默认值，并将其移到形参列表末尾\n",
    "def get_formatted_name(first_name, last_name, middle_name=''):\n",
    "    if middle_name:\n",
    "        full_name = first_name + ' ' + middle_name + last_name\n",
    "    else:\n",
    "        full_name = first_name + ' ' + last_name\n",
    "    return full_name.title()\n",
    "\n",
    "name_1 = get_formatted_name('zhu', '献福')\n",
    "print(name_1)\n",
    "name_2 = get_formatted_name('liu', 'xia', 'yu')\n",
    "print(name_2)"
   ]
  },
  {
   "cell_type": "markdown",
   "id": "809f502a",
   "metadata": {},
   "source": [
    "## 返回字典\n",
    "- 函数可以返回任何类型的值，包括列表和字典"
   ]
  },
  {
   "cell_type": "code",
   "execution_count": 19,
   "id": "bf39cad3",
   "metadata": {},
   "outputs": [
    {
     "name": "stdout",
     "output_type": "stream",
     "text": [
      "{'first': 'zhu', 'last': 'xianfu'}\n"
     ]
    }
   ],
   "source": [
    "def build_person(first_name, last_name):\n",
    "    '''返回一个字典，其中包含有关一个人的信息'''\n",
    "    person = {'first': first_name, 'last': last_name}\n",
    "    return person\n",
    "name = build_person('zhu', 'xianfu')\n",
    "print(name)"
   ]
  },
  {
   "cell_type": "code",
   "execution_count": 27,
   "id": "16acca56",
   "metadata": {},
   "outputs": [
    {
     "name": "stdout",
     "output_type": "stream",
     "text": [
      "{'first': 'zhu', 'last': 'xianfu', 'age': 27}\n"
     ]
    }
   ],
   "source": [
    "def build_person(first_name, last_name, age=''):\n",
    "    '''返回一个字典，其中包含有关一个人的信息'''\n",
    "    person = {'first': first_name, 'last': last_name}\n",
    "    if age:\n",
    "        person['age'] = age\n",
    "    return person\n",
    "    \n",
    "name = build_person('zhu', 'xianfu', 27)\n",
    "print(name)"
   ]
  },
  {
   "cell_type": "markdown",
   "id": "433436d8",
   "metadata": {},
   "source": [
    "## 结合使用函数和while循环"
   ]
  },
  {
   "cell_type": "code",
   "execution_count": 30,
   "id": "11493133",
   "metadata": {},
   "outputs": [
    {
     "name": "stdout",
     "output_type": "stream",
     "text": [
      "\n",
      "Please tell me your name:\n"
     ]
    },
    {
     "ename": "KeyboardInterrupt",
     "evalue": "Interrupted by user",
     "output_type": "error",
     "traceback": [
      "\u001b[0;31m---------------------------------------------------------------------------\u001b[0m",
      "\u001b[0;31mKeyboardInterrupt\u001b[0m                         Traceback (most recent call last)",
      "\u001b[0;32m<ipython-input-30-465a88d15e90>\u001b[0m in \u001b[0;36m<module>\u001b[0;34m\u001b[0m\n\u001b[1;32m      7\u001b[0m \u001b[0;32mwhile\u001b[0m \u001b[0;32mTrue\u001b[0m\u001b[0;34m:\u001b[0m\u001b[0;34m\u001b[0m\u001b[0;34m\u001b[0m\u001b[0m\n\u001b[1;32m      8\u001b[0m     \u001b[0mprint\u001b[0m\u001b[0;34m(\u001b[0m\u001b[0;34m'\\nPlease tell me your name:'\u001b[0m\u001b[0;34m)\u001b[0m\u001b[0;34m\u001b[0m\u001b[0;34m\u001b[0m\u001b[0m\n\u001b[0;32m----> 9\u001b[0;31m     \u001b[0mf_name\u001b[0m \u001b[0;34m=\u001b[0m \u001b[0minput\u001b[0m\u001b[0;34m(\u001b[0m\u001b[0;34m'First name:'\u001b[0m\u001b[0;34m)\u001b[0m\u001b[0;34m\u001b[0m\u001b[0;34m\u001b[0m\u001b[0m\n\u001b[0m\u001b[1;32m     10\u001b[0m     \u001b[0ml_name\u001b[0m \u001b[0;34m=\u001b[0m \u001b[0minput\u001b[0m\u001b[0;34m(\u001b[0m\u001b[0;34m'Last name:'\u001b[0m\u001b[0;34m)\u001b[0m\u001b[0;34m\u001b[0m\u001b[0;34m\u001b[0m\u001b[0m\n\u001b[1;32m     11\u001b[0m \u001b[0;34m\u001b[0m\u001b[0m\n",
      "\u001b[0;32m/opt/anaconda3/lib/python3.8/site-packages/ipykernel/kernelbase.py\u001b[0m in \u001b[0;36mraw_input\u001b[0;34m(self, prompt)\u001b[0m\n\u001b[1;32m    858\u001b[0m                 \u001b[0;34m\"raw_input was called, but this frontend does not support input requests.\"\u001b[0m\u001b[0;34m\u001b[0m\u001b[0;34m\u001b[0m\u001b[0m\n\u001b[1;32m    859\u001b[0m             )\n\u001b[0;32m--> 860\u001b[0;31m         return self._input_request(str(prompt),\n\u001b[0m\u001b[1;32m    861\u001b[0m             \u001b[0mself\u001b[0m\u001b[0;34m.\u001b[0m\u001b[0m_parent_ident\u001b[0m\u001b[0;34m,\u001b[0m\u001b[0;34m\u001b[0m\u001b[0;34m\u001b[0m\u001b[0m\n\u001b[1;32m    862\u001b[0m             \u001b[0mself\u001b[0m\u001b[0;34m.\u001b[0m\u001b[0m_parent_header\u001b[0m\u001b[0;34m,\u001b[0m\u001b[0;34m\u001b[0m\u001b[0;34m\u001b[0m\u001b[0m\n",
      "\u001b[0;32m/opt/anaconda3/lib/python3.8/site-packages/ipykernel/kernelbase.py\u001b[0m in \u001b[0;36m_input_request\u001b[0;34m(self, prompt, ident, parent, password)\u001b[0m\n\u001b[1;32m    902\u001b[0m             \u001b[0;32mexcept\u001b[0m \u001b[0mKeyboardInterrupt\u001b[0m\u001b[0;34m:\u001b[0m\u001b[0;34m\u001b[0m\u001b[0;34m\u001b[0m\u001b[0m\n\u001b[1;32m    903\u001b[0m                 \u001b[0;31m# re-raise KeyboardInterrupt, to truncate traceback\u001b[0m\u001b[0;34m\u001b[0m\u001b[0;34m\u001b[0m\u001b[0;34m\u001b[0m\u001b[0m\n\u001b[0;32m--> 904\u001b[0;31m                 \u001b[0;32mraise\u001b[0m \u001b[0mKeyboardInterrupt\u001b[0m\u001b[0;34m(\u001b[0m\u001b[0;34m\"Interrupted by user\"\u001b[0m\u001b[0;34m)\u001b[0m \u001b[0;32mfrom\u001b[0m \u001b[0;32mNone\u001b[0m\u001b[0;34m\u001b[0m\u001b[0;34m\u001b[0m\u001b[0m\n\u001b[0m\u001b[1;32m    905\u001b[0m             \u001b[0;32mexcept\u001b[0m \u001b[0mException\u001b[0m \u001b[0;32mas\u001b[0m \u001b[0me\u001b[0m\u001b[0;34m:\u001b[0m\u001b[0;34m\u001b[0m\u001b[0;34m\u001b[0m\u001b[0m\n\u001b[1;32m    906\u001b[0m                 \u001b[0mself\u001b[0m\u001b[0;34m.\u001b[0m\u001b[0mlog\u001b[0m\u001b[0;34m.\u001b[0m\u001b[0mwarning\u001b[0m\u001b[0;34m(\u001b[0m\u001b[0;34m\"Invalid Message:\"\u001b[0m\u001b[0;34m,\u001b[0m \u001b[0mexc_info\u001b[0m\u001b[0;34m=\u001b[0m\u001b[0;32mTrue\u001b[0m\u001b[0;34m)\u001b[0m\u001b[0;34m\u001b[0m\u001b[0;34m\u001b[0m\u001b[0m\n",
      "\u001b[0;31mKeyboardInterrupt\u001b[0m: Interrupted by user"
     ]
    }
   ],
   "source": [
    "def get_formatted_name(firstname, lastname):\n",
    "    '''返回整洁的姓名'''\n",
    "    full_name = firstname + ' ' + lastname\n",
    "    return full_name.title()\n",
    "\n",
    "# 这是一个无限循环\n",
    "while True:\n",
    "    print('\\nPlease tell me your name:')\n",
    "    f_name = input('First name:')\n",
    "    l_name = input('Last name:')\n",
    "    \n",
    "    formatted_name = get_formatted_name(f_name, l_name)\n",
    "    print('\\nHello, ' + formatted_name + '.')"
   ]
  },
  {
   "cell_type": "code",
   "execution_count": 32,
   "id": "3113efb0",
   "metadata": {
    "scrolled": true
   },
   "outputs": [
    {
     "name": "stdout",
     "output_type": "stream",
     "text": [
      "\n",
      "Please tell me your name:\n",
      "First name:zhu\n",
      "Last name:xianfu\n",
      "\n",
      "Hello, Zhu Xianfu.\n",
      "\n",
      "Please tell me your name:\n",
      "First name:q\n"
     ]
    }
   ],
   "source": [
    "# 在用户输入时提供跳出循环的条件\n",
    "def get_formatted_name(firstname, lastname):\n",
    "    '''返回整洁的姓名'''\n",
    "    full_name = firstname + ' ' + lastname\n",
    "    return full_name.title()\n",
    "\n",
    "# 这是一个无限循环\n",
    "while True:\n",
    "    print('\\nPlease tell me your name:')\n",
    "    f_name = input('First name:')\n",
    "    if f_name == 'q':\n",
    "        break\n",
    "    l_name = input('Last name:')\n",
    "    if l_name == 'q':\n",
    "        break\n",
    "    formatted_name = get_formatted_name(f_name, l_name)\n",
    "    print('\\nHello, ' + formatted_name + '.')"
   ]
  },
  {
   "cell_type": "markdown",
   "id": "45352547",
   "metadata": {},
   "source": [
    "### 动手试一试"
   ]
  },
  {
   "cell_type": "markdown",
   "id": "2c7cca96",
   "metadata": {},
   "source": [
    "-  城市名：编写一个名为city_country() 的函数，它接受城市的名称及其所属的国家。这个函数应返回一个格式类似于下面这样的字符串：\n",
    "            ‘shanghai, China'"
   ]
  },
  {
   "cell_type": "code",
   "execution_count": 33,
   "id": "2688cc4b",
   "metadata": {},
   "outputs": [
    {
     "name": "stdout",
     "output_type": "stream",
     "text": [
      "Shanghai, China\n",
      "Beijing, China\n",
      "Taiwan, China\n"
     ]
    }
   ],
   "source": [
    "def city_country(city_name, country_name):\n",
    "    '''返回包括城市和国家的一组字符串'''\n",
    "    full_city_country = city_name + ', ' + country_name\n",
    "    return full_city_country.title()\n",
    "city_1 = city_country('shanghai', 'china')\n",
    "city_2 = city_country('beijing', 'china')\n",
    "city_3 = city_country('taiwan', 'china')\n",
    "print(city_1)\n",
    "print(city_2)\n",
    "print(city_3)"
   ]
  },
  {
   "cell_type": "markdown",
   "id": "8a3f48f4",
   "metadata": {},
   "source": [
    "- 专辑：编写一个名为make_album() 的函数，它创建一个描述音乐专辑的字典。这个函数应接受歌手的名字和专辑名，并返回一个包含这两项信息的字典。使 用这个函数创建三个表示不同专辑的字典，并打印每个返回的值，以核实字典正确地存储了专辑的信息。"
   ]
  },
  {
   "cell_type": "code",
   "execution_count": 40,
   "id": "1952a38b",
   "metadata": {},
   "outputs": [
    {
     "name": "stdout",
     "output_type": "stream",
     "text": [
      "{'singer': '周杰伦', 'almum': 'Jay'}\n",
      "{'singer': '周杰伦', 'almum': '范特西'}\n",
      "{'singer': '周杰伦', 'almum': 'Jay'}\n",
      "{'singer': '周杰伦', 'almum': '范特西', 'musics': 10}\n"
     ]
    }
   ],
   "source": [
    "def make_album(singer_name, album_name):\n",
    "    '''返回一个字典，其中包括歌手名字和专辑名'''\n",
    "    album = {'singer': singer_name, 'almum': album_name}\n",
    "    return album\n",
    "\n",
    "jaychou_1 = make_album('周杰伦', 'Jay')\n",
    "print(jaychou_1)\n",
    "jaychou_2 = make_album('周杰伦', '范特西')\n",
    "print(jaychou_2)\n",
    "\n",
    "def make_album(singer_name, album_name, musics=''):\n",
    "    '''返回一个字典，其中包括歌手名字和专辑名'''\n",
    "    album = {'singer': singer_name, 'almum': album_name}\n",
    "    if musics:\n",
    "        album['musics'] = musics\n",
    "    return album\n",
    "\n",
    "jaychou_1 = make_album('周杰伦', 'Jay')\n",
    "print(jaychou_1)\n",
    "jaychou_2 = make_album('周杰伦', '范特西', 10)\n",
    "print(jaychou_2)"
   ]
  },
  {
   "cell_type": "markdown",
   "id": "857fa9ee",
   "metadata": {},
   "source": [
    "- 编写一个while 循环，让用户输入一个专辑的歌手和名称。获取这些信息后，使用它们来调用函 数make_album() ，并将创建的字典打印出来。在这个while 循环中，务必要提供退出途径。"
   ]
  },
  {
   "cell_type": "code",
   "execution_count": 50,
   "id": "22e2647a",
   "metadata": {},
   "outputs": [
    {
     "name": "stdout",
     "output_type": "stream",
     "text": [
      "\n",
      "请告诉我你喜欢的专辑\n",
      "请输入歌手名：q\n"
     ]
    }
   ],
   "source": [
    "def make_album(singer_name, album_name, music_name):\n",
    "    '''返回字典，包括歌手名，专辑名，歌曲名'''\n",
    "    album = {\n",
    "            'singer': singer_name, \n",
    "            'album': album_name,\n",
    "            'music': music_name\n",
    "            }\n",
    "    print('\\n下面的是{}最喜欢的音乐'.format(name))\n",
    "    return album\n",
    "\n",
    "while True:\n",
    "    print('\\n请告诉我你喜欢的专辑')\n",
    "    s_name = input('请输入歌手名：')\n",
    "    if s_name == 'q':\n",
    "        break\n",
    "    a_name = input('请输入专辑名：')\n",
    "    if a_name == 'q':\n",
    "        break\n",
    "    m_name = input('请输入里面最喜欢的音乐')\n",
    "    if m_name == 'q':\n",
    "        break\n",
    "    name = input('请输入你的姓名:')\n",
    "    if name == 'q':\n",
    "        break\n",
    "    name = make_album(s_name, a_name, m_name)\n",
    "    for v in name.values():\n",
    "        print(v)"
   ]
  },
  {
   "cell_type": "code",
   "execution_count": null,
   "id": "d314fb7f",
   "metadata": {},
   "outputs": [],
   "source": []
  },
  {
   "cell_type": "code",
   "execution_count": null,
   "id": "c2c27a71",
   "metadata": {},
   "outputs": [],
   "source": []
  },
  {
   "cell_type": "code",
   "execution_count": null,
   "id": "98462ba9",
   "metadata": {},
   "outputs": [],
   "source": []
  },
  {
   "cell_type": "code",
   "execution_count": null,
   "id": "2298a552",
   "metadata": {},
   "outputs": [],
   "source": []
  }
 ],
 "metadata": {
  "kernelspec": {
   "display_name": "Python 3",
   "language": "python",
   "name": "python3"
  },
  "language_info": {
   "codemirror_mode": {
    "name": "ipython",
    "version": 3
   },
   "file_extension": ".py",
   "mimetype": "text/x-python",
   "name": "python",
   "nbconvert_exporter": "python",
   "pygments_lexer": "ipython3",
   "version": "3.8.8"
  }
 },
 "nbformat": 4,
 "nbformat_minor": 5
}
