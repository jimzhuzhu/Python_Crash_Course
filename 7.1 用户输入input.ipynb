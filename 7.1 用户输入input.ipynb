{
 "cells": [
  {
   "cell_type": "markdown",
   "metadata": {},
   "source": [
    "# input( ) 函数\n",
    "- （ ）接受参数，对要输入的内容进行提示和说明"
   ]
  },
  {
   "cell_type": "code",
   "execution_count": 2,
   "metadata": {},
   "outputs": [
    {
     "name": "stdout",
     "output_type": "stream",
     "text": [
      "请告诉要输入什么东西：baba\n",
      "baba\n"
     ]
    }
   ],
   "source": [
    "message = input('请告诉要输入什么东西：')\n",
    "print(message)"
   ]
  },
  {
   "cell_type": "markdown",
   "metadata": {},
   "source": [
    "### 编写清晰的程序，准确指出你希望用户提供什么信息"
   ]
  },
  {
   "cell_type": "markdown",
   "metadata": {},
   "source": [
    "name = input('请输入你的姓名：')\n",
    "print('hello, ' + name + '!')"
   ]
  },
  {
   "cell_type": "code",
   "execution_count": 4,
   "metadata": {},
   "outputs": [
    {
     "name": "stdout",
     "output_type": "stream",
     "text": [
      "请告诉你的位置，我会寄邮件给你。\n",
      "首先你的名字是什么？liu yu xia\n",
      "hello, liu yu xia!\n"
     ]
    }
   ],
   "source": [
    "# 当提示太长，可将提示存储在一个变量\n",
    "promt = '请告诉你的位置，我会寄邮件给你。'\n",
    "promt += '\\n首先你的名字是什么？'\n",
    "name = input(promt)\n",
    "print('hello, ' + name + '!')"
   ]
  },
  {
   "cell_type": "markdown",
   "metadata": {},
   "source": [
    "### 使用int( )来获取数值输入"
   ]
  },
  {
   "cell_type": "code",
   "execution_count": 7,
   "metadata": {},
   "outputs": [
    {
     "name": "stdout",
     "output_type": "stream",
     "text": [
      "请输入你的年龄：23\n",
      "23\n",
      "<class 'str'>\n"
     ]
    },
    {
     "ename": "TypeError",
     "evalue": "'>' not supported between instances of 'str' and 'int'",
     "output_type": "error",
     "traceback": [
      "\u001b[0;31m---------------------------------------------------------------------------\u001b[0m",
      "\u001b[0;31mTypeError\u001b[0m                                 Traceback (most recent call last)",
      "\u001b[0;32m<ipython-input-7-6461916d76d6>\u001b[0m in \u001b[0;36m<module>\u001b[0;34m\u001b[0m\n\u001b[1;32m      3\u001b[0m \u001b[0mprint\u001b[0m\u001b[0;34m(\u001b[0m\u001b[0mage\u001b[0m\u001b[0;34m)\u001b[0m\u001b[0;34m\u001b[0m\u001b[0;34m\u001b[0m\u001b[0m\n\u001b[1;32m      4\u001b[0m \u001b[0mprint\u001b[0m\u001b[0;34m(\u001b[0m\u001b[0mtype\u001b[0m\u001b[0;34m(\u001b[0m\u001b[0mage\u001b[0m\u001b[0;34m)\u001b[0m\u001b[0;34m)\u001b[0m\u001b[0;34m\u001b[0m\u001b[0;34m\u001b[0m\u001b[0m\n\u001b[0;32m----> 5\u001b[0;31m \u001b[0mage\u001b[0m \u001b[0;34m>\u001b[0m \u001b[0;36m20\u001b[0m\u001b[0;34m\u001b[0m\u001b[0;34m\u001b[0m\u001b[0m\n\u001b[0m",
      "\u001b[0;31mTypeError\u001b[0m: '>' not supported between instances of 'str' and 'int'"
     ]
    }
   ],
   "source": [
    "# input()函数返回是字符串，如果想作为数字使用，需要int()转化\n",
    "age = input('请输入你的年龄：')\n",
    "print(age)\n",
    "print(type(age))\n",
    "age > 20"
   ]
  },
  {
   "cell_type": "code",
   "execution_count": 8,
   "metadata": {},
   "outputs": [
    {
     "name": "stdout",
     "output_type": "stream",
     "text": [
      "请输入你的年龄：20\n",
      "你已经成年了\n"
     ]
    }
   ],
   "source": [
    "age = input('请输入你的年龄：')\n",
    "age = int(age)\n",
    "if age > 18:\n",
    "    print('你已经成年了')\n",
    "else:\n",
    "    print('未成年请退出')"
   ]
  },
  {
   "cell_type": "markdown",
   "metadata": {},
   "source": [
    "### 求余也叫求模 \n",
    "- 符号：%"
   ]
  },
  {
   "cell_type": "code",
   "execution_count": 11,
   "metadata": {},
   "outputs": [
    {
     "name": "stdout",
     "output_type": "stream",
     "text": [
      "请输入一个数来判断奇偶：12\n",
      "12 是偶数呀\n"
     ]
    }
   ],
   "source": [
    "# 判断一个数是奇数还是偶数\n",
    "number = input('请输入一个数来判断奇偶：')\n",
    "number = int(number)\n",
    "if number % 2 == 0:\n",
    "    print('{} 是偶数呀'.format(number))\n",
    "else:\n",
    "    pass"
   ]
  },
  {
   "cell_type": "markdown",
   "metadata": {},
   "source": [
    "### 练习"
   ]
  },
  {
   "cell_type": "code",
   "execution_count": 12,
   "metadata": {},
   "outputs": [
    {
     "name": "stdout",
     "output_type": "stream",
     "text": [
      "请输入你想要租的汽车：benci\n",
      "benci\n"
     ]
    }
   ],
   "source": [
    "# 汽车租赁\n",
    "car = input('请输入你想要租的汽车：')\n",
    "print(car)"
   ]
  },
  {
   "cell_type": "code",
   "execution_count": 15,
   "metadata": {},
   "outputs": [
    {
     "name": "stdout",
     "output_type": "stream",
     "text": [
      "有多少人用餐？9\n",
      "已经没有空桌啦\n"
     ]
    }
   ],
   "source": [
    "#餐馆订位\n",
    "eat_number = input('有多少人用餐？')\n",
    "eat_number = int(eat_number)\n",
    "if eat_number > 8:\n",
    "    print('已经没有空桌啦')\n",
    "else:\n",
    "    print('欢迎光临！')"
   ]
  },
  {
   "cell_type": "code",
   "execution_count": 17,
   "metadata": {},
   "outputs": [
    {
     "name": "stdout",
     "output_type": "stream",
     "text": [
      "请输入数字：100\n",
      "100 是10的整数倍\n"
     ]
    }
   ],
   "source": [
    "# 判断一个数是否是10的整数倍\n",
    "number = input('请输入数字：')\n",
    "number = int(number)\n",
    "if number % 10 == 0:\n",
    "    print('{} 是10的整数倍'.format(number))\n",
    "else:\n",
    "    pass"
   ]
  }
 ],
 "metadata": {
  "kernelspec": {
   "display_name": "Python 3",
   "language": "python",
   "name": "python3"
  },
  "language_info": {
   "codemirror_mode": {
    "name": "ipython",
    "version": 3
   },
   "file_extension": ".py",
   "mimetype": "text/x-python",
   "name": "python",
   "nbconvert_exporter": "python",
   "pygments_lexer": "ipython3",
   "version": "3.8.8"
  }
 },
 "nbformat": 4,
 "nbformat_minor": 4
}
