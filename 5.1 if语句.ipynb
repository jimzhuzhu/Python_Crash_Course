{
 "cells": [
  {
   "cell_type": "markdown",
   "metadata": {},
   "source": [
    "# if语句\n",
    "- 条件判断\n",
    "- 表达式核心是判断布尔值，默认返回布尔值\n",
    "- and\n",
    "- or\n",
    "- not"
   ]
  },
  {
   "cell_type": "code",
   "execution_count": 1,
   "metadata": {},
   "outputs": [
    {
     "name": "stdout",
     "output_type": "stream",
     "text": [
      "Zhu Xiaofu\n",
      "LIU YUXIA\n",
      "Liu Liu\n"
     ]
    }
   ],
   "source": [
    "# 特殊的条件情况\n",
    "# 列表中其他元素首字母大写，其中一个全大写\n",
    "names = ['zhu xiaofu', \"liu yuxia\", 'liu liu']\n",
    "for name in names:\n",
    "    if name == 'liu yuxia':\n",
    "        print(name.upper())\n",
    "    else:\n",
    "        print(name.title())"
   ]
  },
  {
   "cell_type": "code",
   "execution_count": 2,
   "metadata": {},
   "outputs": [
    {
     "name": "stdout",
     "output_type": "stream",
     "text": [
      "这不完全一样嘛\n"
     ]
    }
   ],
   "source": [
    "# 检测是否相等\n",
    "car = 'bmw' # = 赋值符合\n",
    "cars = 'bmw'\n",
    "# == 比较运算符 \n",
    "if car == cars:\n",
    "    print('这不完全一样嘛')"
   ]
  },
  {
   "cell_type": "code",
   "execution_count": 6,
   "metadata": {},
   "outputs": [
    {
     "name": "stdout",
     "output_type": "stream",
     "text": [
      "False\n"
     ]
    },
    {
     "data": {
      "text/plain": [
       "True"
      ]
     },
     "execution_count": 6,
     "metadata": {},
     "output_type": "execute_result"
    }
   ],
   "source": [
    "# 是否相等怎么不考虑大小写\n",
    "car = 'Audi'\n",
    "print(car == 'audi')\n",
    "\n",
    "# 使用函数转换后比较，不会改变原来的值\n",
    "name = 'Liu Yuxia'\n",
    "name.lower() == 'liu yuxia'\n",
    "# 常用在网站用户名注册中"
   ]
  },
  {
   "cell_type": "code",
   "execution_count": 7,
   "metadata": {},
   "outputs": [
    {
     "name": "stdout",
     "output_type": "stream",
     "text": [
      "Please  you speake english\n"
     ]
    }
   ],
   "source": [
    "# 检测是否不想等 !=\n",
    "sayhi = '你好呀'\n",
    "if sayhi != 'Hello':\n",
    "    print('Please  you speake english')"
   ]
  },
  {
   "cell_type": "markdown",
   "metadata": {},
   "source": [
    "## 比较数字\n",
    "- 比较运算符\n",
    "\n",
    "        == & != % >=\n",
    "        <= % <  % >"
   ]
  },
  {
   "cell_type": "code",
   "execution_count": 8,
   "metadata": {},
   "outputs": [
    {
     "name": "stdout",
     "output_type": "stream",
     "text": [
      "True\n",
      "True\n",
      "False\n",
      "False\n"
     ]
    }
   ],
   "source": [
    "age = 19\n",
    "print(age < 21)\n",
    "print(age != 21)\n",
    "print(age == 21)\n",
    "print(age > 21)"
   ]
  },
  {
   "cell_type": "markdown",
   "metadata": {},
   "source": [
    "## 同时检查多个条件\n",
    "\n",
    "    and / or / not\n",
    "    与  / 或 / 非"
   ]
  },
  {
   "cell_type": "code",
   "execution_count": 12,
   "metadata": {},
   "outputs": [
    {
     "name": "stdout",
     "output_type": "stream",
     "text": [
      "False\n",
      "True\n"
     ]
    }
   ],
   "source": [
    "# and 与 两个同时满足条件\n",
    "age_0 = 22\n",
    "age_1 = 18\n",
    "if age_0 >= 21 and age_1 >=21:\n",
    "    print('True')\n",
    "else:\n",
    "    print('False')\n",
    "    \n",
    "age_0 = 24\n",
    "age_1 = 22\n",
    "if (age_0 >= 21) and (age_1 >= 21):\n",
    "    print('True')\n",
    "else:\n",
    "    print(False)"
   ]
  },
  {
   "cell_type": "code",
   "execution_count": 13,
   "metadata": {},
   "outputs": [
    {
     "name": "stdout",
     "output_type": "stream",
     "text": [
      "True\n",
      "False\n"
     ]
    }
   ],
   "source": [
    "# or 或 至少有一个满足条件\n",
    "age_0 = 22\n",
    "age_1 = 18\n",
    "if age_0 >= 21 or age_1 >=21:\n",
    "    print('True')\n",
    "else:\n",
    "    print('False')\n",
    "    \n",
    "# 两个都没满足条件 执行else语句   \n",
    "age_0 = 16\n",
    "age_1 = 18\n",
    "if age_0 >= 21 or age_1 >=21:\n",
    "    print('True')\n",
    "else:\n",
    "    print('False')"
   ]
  },
  {
   "cell_type": "code",
   "execution_count": 15,
   "metadata": {},
   "outputs": [
    {
     "name": "stdout",
     "output_type": "stream",
     "text": [
      "Liu Yuxia, you can post a response if you wish.\n"
     ]
    }
   ],
   "source": [
    "# 检测特定值不包含在列表中\n",
    "names = ['zhu xiaoyu', 'liuliu']\n",
    "name = 'liu yuxia'\n",
    "if name not in names:\n",
    "    print(name.title() + ', you can post a response if you wish.')"
   ]
  },
  {
   "cell_type": "code",
   "execution_count": null,
   "metadata": {},
   "outputs": [],
   "source": [
    "# 布尔表达式\n",
    "game_active = True\n",
    "can_edit = False"
   ]
  },
  {
   "cell_type": "code",
   "execution_count": 1,
   "metadata": {},
   "outputs": [
    {
     "name": "stdout",
     "output_type": "stream",
     "text": [
      "Is name == 'liuyuxia'? I predict True.\n",
      "True\n",
      "\n",
      "Is name == 'zhuxiaofu'? I predict False.\n",
      "False\n"
     ]
    }
   ],
   "source": [
    "name = 'liuyuxia'\n",
    "print(\"Is name == 'liuyuxia'? I predict True.\")\n",
    "print(name == 'liuyuxia')\n",
    "\n",
    "print(\"\\nIs name == 'zhuxiaofu'? I predict False.\")\n",
    "print(name == 'zhuxiaofu')"
   ]
  },
  {
   "cell_type": "markdown",
   "metadata": {},
   "source": [
    "# 条件测试"
   ]
  },
  {
   "cell_type": "code",
   "execution_count": 7,
   "metadata": {},
   "outputs": [
    {
     "name": "stdout",
     "output_type": "stream",
     "text": [
      "True\n",
      "False\n",
      "False\n",
      "True\n",
      "True\n",
      "False\n",
      "False\n",
      "True\n"
     ]
    }
   ],
   "source": [
    "name = 'liuyuxia'\n",
    "print(name == 'liuyuxia')\n",
    "print(name == 'zhuxiaofu')\n",
    "\n",
    "# 使用函数lower（）\n",
    "car = \"AUDI\"\n",
    "print(car == 'audi')\n",
    "print(car.lower() == 'audi')\n",
    "\n",
    "# 数字\n",
    "number = 6\n",
    "print(number == 6)\n",
    "print(number == 5)\n",
    "print(number != 6)\n",
    "print(number != 5)"
   ]
  },
  {
   "cell_type": "code",
   "execution_count": null,
   "metadata": {},
   "outputs": [],
   "source": []
  }
 ],
 "metadata": {
  "kernelspec": {
   "display_name": "Python 3",
   "language": "python",
   "name": "python3"
  },
  "language_info": {
   "codemirror_mode": {
    "name": "ipython",
    "version": 3
   },
   "file_extension": ".py",
   "mimetype": "text/x-python",
   "name": "python",
   "nbconvert_exporter": "python",
   "pygments_lexer": "ipython3",
   "version": "3.8.8"
  }
 },
 "nbformat": 4,
 "nbformat_minor": 4
}
