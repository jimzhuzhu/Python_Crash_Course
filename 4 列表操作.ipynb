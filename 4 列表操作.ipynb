{
 "cells": [
  {
   "cell_type": "markdown",
   "metadata": {},
   "source": [
    "# 使用for循环遍历列表"
   ]
  },
  {
   "cell_type": "code",
   "execution_count": 1,
   "metadata": {},
   "outputs": [
    {
     "name": "stdout",
     "output_type": "stream",
     "text": [
      "alice\n",
      "david\n",
      "carolina\n"
     ]
    }
   ],
   "source": [
    "# 打印魔术师名单\n",
    "magicians = [\"alice\", \"david\", \"carolina\"]\n",
    "for magician in magicians:\n",
    "    print(magician)"
   ]
  },
  {
   "cell_type": "code",
   "execution_count": 3,
   "metadata": {},
   "outputs": [
    {
     "name": "stdout",
     "output_type": "stream",
     "text": [
      "Alice, that was a great trick!\n",
      "David, that was a great trick!\n",
      "Carolina, that was a great trick!\n"
     ]
    }
   ],
   "source": [
    "# for cat in cats:\n",
    "# for dog in dogs:\n",
    "# 扩展\n",
    "magicians = [\"alice\", \"david\", \"carolina\"]\n",
    "for magician in magicians:\n",
    "    print(magician.title() + \", that was a great trick!\")"
   ]
  },
  {
   "cell_type": "code",
   "execution_count": 7,
   "metadata": {},
   "outputs": [
    {
     "name": "stdout",
     "output_type": "stream",
     "text": [
      "Alice, that was a great trick!\n",
      "I can't wait to see you next trick,Alice.\n",
      "\n",
      "Daivd, that was a great trick!\n",
      "I can't wait to see you next trick,Daivd.\n",
      "\n",
      "Carolina, that was a great trick!\n",
      "I can't wait to see you next trick,Carolina.\n",
      "\n"
     ]
    }
   ],
   "source": [
    "magicians = [\"alice\", \"daivd\", \"carolina\"]\n",
    "for magician in magicians:\n",
    "    print(magician.title() + \", that was a great trick!\")\n",
    "    print(\"I can't wait to see you next trick,\" + magician.title() + \".\\n\")"
   ]
  },
  {
   "cell_type": "code",
   "execution_count": 8,
   "metadata": {},
   "outputs": [
    {
     "name": "stdout",
     "output_type": "stream",
     "text": [
      "Alice, that was a great trick!\n",
      "I can't wait to see you next trick,Alice.\n",
      "\n",
      "Daivd, that was a great trick!\n",
      "I can't wait to see you next trick,Daivd.\n",
      "\n",
      "Carolina, that was a great trick!\n",
      "I can't wait to see you next trick,Carolina.\n",
      "\n",
      "Thank you, everyone. That was a great magic show!\n"
     ]
    }
   ],
   "source": [
    "magicians = [\"alice\", \"daivd\", \"carolina\"]\n",
    "for magician in magicians:\n",
    "    print(magician.title() + \", that was a great trick!\")\n",
    "    print(\"I can't wait to see you next trick,\" + magician.title() + \".\\n\")\n",
    "\n",
    "print(\"Thank you, everyone. That was a great magic show!\")"
   ]
  },
  {
   "cell_type": "code",
   "execution_count": 14,
   "metadata": {},
   "outputs": [
    {
     "name": "stdout",
     "output_type": "stream",
     "text": [
      "alice\n",
      "david\n",
      "carolina\n"
     ]
    }
   ],
   "source": [
    "# 忘记缩进\n",
    "magicians = [\"alice\", \"david\", \"carolina\"]\n",
    "for magician in magicians:\n",
    "    print(magician)"
   ]
  },
  {
   "cell_type": "code",
   "execution_count": 15,
   "metadata": {},
   "outputs": [
    {
     "ename": "IndentationError",
     "evalue": "unexpected indent (<ipython-input-15-ec7bc6416d37>, line 3)",
     "output_type": "error",
     "traceback": [
      "\u001b[1;36m  File \u001b[1;32m\"<ipython-input-15-ec7bc6416d37>\"\u001b[1;36m, line \u001b[1;32m3\u001b[0m\n\u001b[1;33m    print(message)\u001b[0m\n\u001b[1;37m    ^\u001b[0m\n\u001b[1;31mIndentationError\u001b[0m\u001b[1;31m:\u001b[0m unexpected indent\n"
     ]
    }
   ],
   "source": [
    "# 不必要的缩进\n",
    "message = \"Hello Python world!\"\n",
    "#    print(message)"
   ]
  },
  {
   "cell_type": "markdown",
   "metadata": {},
   "source": [
    "# for循环遍历列表练习"
   ]
  },
  {
   "cell_type": "code",
   "execution_count": 2,
   "metadata": {},
   "outputs": [
    {
     "name": "stdout",
     "output_type": "stream",
     "text": [
      "['zhuzhu', 'liuxiaoxia', 'liuliu']\n",
      "Zhuzhu.\n",
      "We are happy family!\n",
      "\n",
      "Liuxiaoxia.\n",
      "We are happy family!\n",
      "\n",
      "Liuliu.\n",
      "We are happy family!\n",
      "\n",
      "I really love liuxiaoxia and liuliu\n"
     ]
    }
   ],
   "source": [
    "names = [\"zhuzhu\", \"liuxiaoxia\", \"liuliu\"]\n",
    "print(names)\n",
    "for name in names:\n",
    "    print(name.title() + \".\")\n",
    "    print(\"We are happy family!\" + \"\\n\")\n",
    "    \n",
    "print(\"I really love liuxiaoxia\" + \" and liuliu\")"
   ]
  },
  {
   "cell_type": "code",
   "execution_count": 28,
   "metadata": {},
   "outputs": [
    {
     "name": "stdout",
     "output_type": "stream",
     "text": [
      "pig\n",
      "A Pig would make a great pet!\n",
      "\n",
      "dog\n",
      "A Dog would make a great pet!\n",
      "\n",
      "cat\n",
      "A Cat would make a great pet!\n",
      "\n",
      "Any of these animals would make a great pet!\n"
     ]
    }
   ],
   "source": [
    "animals = [\"pig\", \"dog\", \"cat\"]\n",
    "for animal in animals:\n",
    "    print(animal)\n",
    "    print(\"A \" + animal.title() + \" would make a great pet!\" + \"\\n\")\n",
    "    \n",
    "print(\"Any of these animals would make a great pet!\")"
   ]
  },
  {
   "cell_type": "markdown",
   "metadata": {},
   "source": [
    "# 创建数值列表\n",
    " - 函数range() \n",
    " \n",
    "         range(x, y)  左包括右不包括"
   ]
  },
  {
   "cell_type": "code",
   "execution_count": 33,
   "metadata": {},
   "outputs": [
    {
     "name": "stdout",
     "output_type": "stream",
     "text": [
      "1\n",
      "2\n",
      "3\n",
      "4\n",
      "1|2|3|4|5|6|7|8|9|"
     ]
    }
   ],
   "source": [
    "# range 函数使用案例\n",
    "for value in range(1, 5):\n",
    "    print(value)\n",
    "\n",
    "# 不换行打印\n",
    "for value in range(1, 10):\n",
    "    print(value, end=\"|\")"
   ]
  },
  {
   "cell_type": "code",
   "execution_count": 38,
   "metadata": {},
   "outputs": [
    {
     "name": "stdout",
     "output_type": "stream",
     "text": [
      "[1, 2, 3, 4, 5, 6, 7, 8, 9]\n",
      "[2, 4, 6, 8, 10, 12, 14, 16, 18, 20]\n"
     ]
    }
   ],
   "source": [
    "# range() 创建列表\n",
    "# 使用函数list() 将range() 的结果直接转换为列表\n",
    "numbers = list(range(1, 10))\n",
    "print(numbers)\n",
    "\n",
    "# 使用range()函数可以指定步长\n",
    "numbers = list(range(2, 21, 2))\n",
    "print(numbers)"
   ]
  },
  {
   "cell_type": "code",
   "execution_count": 6,
   "metadata": {},
   "outputs": [
    {
     "name": "stdout",
     "output_type": "stream",
     "text": [
      "[1, 4, 9, 16, 25, 36, 49, 64, 81, 100]\n",
      "==========\n",
      "[1, 4, 9, 16, 25, 36, 49, 64, 81, 100]\n"
     ]
    }
   ],
   "source": [
    "# 创建一个平方列表\n",
    "squares = []\n",
    "for value in range(1, 11):\n",
    "    square = value ** 2\n",
    "    squares.append(square)\n",
    "    # print(squares) 会把每一次都打印出一个列表\n",
    "print(squares)\n",
    "print(\"=\"*10)\n",
    "# 简便方法，不需要再通过一个变量赋值\n",
    "square = []\n",
    "for value in range(1,11):\n",
    "    square.append(value**2)\n",
    "print(square)"
   ]
  },
  {
   "cell_type": "markdown",
   "metadata": {},
   "source": [
    "## 函数执行简单的数字列表统计计算\n",
    "    \n",
    "    max()\n",
    "    min()\n",
    "    sum()"
   ]
  },
  {
   "cell_type": "code",
   "execution_count": 7,
   "metadata": {},
   "outputs": [
    {
     "name": "stdout",
     "output_type": "stream",
     "text": [
      "9\n",
      "1\n",
      "45\n"
     ]
    }
   ],
   "source": [
    "digits = [1,2,3,4,5,6,7,8,9]\n",
    "print(max(digits))\n",
    "print(min(digits))\n",
    "print(sum(digits))"
   ]
  },
  {
   "cell_type": "markdown",
   "metadata": {},
   "source": [
    "## 列表解析\n",
    "- 将for循环和创建新元素的代码合并成一行"
   ]
  },
  {
   "cell_type": "code",
   "execution_count": 8,
   "metadata": {},
   "outputs": [
    {
     "name": "stdout",
     "output_type": "stream",
     "text": [
      "[1, 4, 9, 16, 25, 36, 49, 64, 81, 100]\n"
     ]
    }
   ],
   "source": [
    "squares = [vlaue**2 for vlaue in range(1,11)]\n",
    "print(squares)"
   ]
  },
  {
   "cell_type": "markdown",
   "metadata": {},
   "source": [
    "## 数字列表小练习"
   ]
  },
  {
   "cell_type": "code",
   "execution_count": 15,
   "metadata": {},
   "outputs": [
    {
     "name": "stdout",
     "output_type": "stream",
     "text": [
      "[1, 2, 3, 4, 5, 6, 7, 8, 9, 10, 11, 12, 13, 14, 15, 16, 17, 18, 19, 20]\n"
     ]
    }
   ],
   "source": [
    "# 1.使用for循环打印数字\n",
    "number = []\n",
    "for i in range(1,21):\n",
    "    number.append(i)\n",
    "print(number)"
   ]
  },
  {
   "cell_type": "code",
   "execution_count": 18,
   "metadata": {},
   "outputs": [
    {
     "name": "stdout",
     "output_type": "stream",
     "text": [
      "1|2|3|4|5|6|7|8|9|10|11|12|13|14|15|16|17|18|19|20|21|22|23|24|25|26|27|28|29|30|31|32|33|34|35|36|37|38|39|40|41|42|43|44|45|46|47|48|49|50|51|52|53|54|55|56|57|58|59|60|61|62|63|64|65|66|67|68|69|70|71|72|73|74|75|76|77|78|79|80|81|82|83|84|85|86|87|88|89|90|91|92|93|94|95|96|97|98|99|100|"
     ]
    }
   ],
   "source": [
    "# 2.创建列表，并使用for循环打印出来\n",
    "num = list(range(1,101))\n",
    "for i in num:\n",
    "    print(i,end=\"|\")"
   ]
  },
  {
   "cell_type": "code",
   "execution_count": 7,
   "metadata": {},
   "outputs": [
    {
     "name": "stdout",
     "output_type": "stream",
     "text": [
      "Thu Jun 11 22:23:23 2020\n",
      "OK\n",
      "50000005000000\n",
      "Thu Jun 11 22:23:24 2020\n"
     ]
    }
   ],
   "source": [
    "# 3.计算数字列表的总和\n",
    "import time\n",
    "print(time.ctime())\n",
    "num = list(range(1,10000001))\n",
    "if min(num)  == 1 and max(num) == 10000000:\n",
    "     print(\"OK\")\n",
    "print(sum(num))\n",
    "print(time.ctime())"
   ]
  },
  {
   "cell_type": "code",
   "execution_count": 9,
   "metadata": {},
   "outputs": [
    {
     "name": "stdout",
     "output_type": "stream",
     "text": [
      "1 3 5 7 9 11 13 15 17 19 \n",
      "1 3 5 7 9 11 13 15 17 19 "
     ]
    }
   ],
   "source": [
    "# 通过判断打印奇数\n",
    "num = list(range(1,21))\n",
    "for i in num:\n",
    "    if i % 2 != 0:\n",
    "        print(i,end=\" \")\n",
    "print()\n",
    "# 通过步长\n",
    "num = list(range(1,21,2))\n",
    "for i in num:\n",
    "    print(i,end=\" \")"
   ]
  },
  {
   "cell_type": "code",
   "execution_count": 10,
   "metadata": {},
   "outputs": [
    {
     "name": "stdout",
     "output_type": "stream",
     "text": [
      "3|6|9|12|15|18|21|24|27|30|"
     ]
    }
   ],
   "source": [
    "# 3的倍数\n",
    "num = list(range(3,31,3))\n",
    "for i in num:\n",
    "    print(i,end=\"|\")"
   ]
  },
  {
   "cell_type": "code",
   "execution_count": 16,
   "metadata": {},
   "outputs": [
    {
     "name": "stdout",
     "output_type": "stream",
     "text": [
      "[1, 8, 27, 64, 125, 216, 343, 512, 729, 1000, 1331, 1728, 2197, 2744, 3375, 4096, 4913, 5832, 6859, 8000]\n",
      "==========\n",
      "[1, 8, 27, 64, 125, 216, 343, 512, 729, 1000, 1331, 1728, 2197, 2744, 3375, 4096, 4913, 5832, 6859, 8000]\n"
     ]
    }
   ],
   "source": [
    "# 创建立方\n",
    "number = []\n",
    "for i in range(1,21):\n",
    "    number.append((i**3))\n",
    "print(number)\n",
    "\n",
    "print(\"=\"*10)\n",
    "\n",
    "# 立方解析\n",
    "number = [i**3 for i in range(1,21)]\n",
    "print(number)"
   ]
  },
  {
   "cell_type": "markdown",
   "metadata": {},
   "source": [
    "# 切片， 使用列表的一部分"
   ]
  },
  {
   "cell_type": "code",
   "execution_count": 21,
   "metadata": {},
   "outputs": [
    {
     "name": "stdout",
     "output_type": "stream",
     "text": [
      "['姚明', '科比', '詹姆斯', '乔丹', '朱小福']\n",
      "['姚明', '科比', '詹姆斯']\n",
      "['科比', '詹姆斯']\n",
      "['詹姆斯', '乔丹', '朱小福']\n",
      "['姚明', '詹姆斯', '朱小福']\n"
     ]
    }
   ],
   "source": [
    "players = [\"姚明\", \"科比\", \"詹姆斯\", \"乔丹\", \"朱小福\"]\n",
    "print(players[0:]) # 打印0下表后所有\n",
    "print(players[:3]) # 打印0-2的内容\n",
    "print(players[1:3])\n",
    "print(players[-3:]) # 打印最后三个\n",
    "print(players[0::2]) # 第三个参数代表切片的步长"
   ]
  },
  {
   "cell_type": "code",
   "execution_count": 22,
   "metadata": {},
   "outputs": [
    {
     "name": "stdout",
     "output_type": "stream",
     "text": [
      "这三个是我们队中最厉害的\n",
      "姚明\n",
      "詹姆斯\n",
      "朱小福\n"
     ]
    }
   ],
   "source": [
    "# 遍历列表中的部分元素\n",
    "players = [\"姚明\", \"科比\", \"詹姆斯\", \"乔丹\", \"朱小福\"]\n",
    "print(\"这三个是我们队中最厉害的\")\n",
    "for player in players[0::2]:\n",
    "    print(player)"
   ]
  },
  {
   "cell_type": "code",
   "execution_count": 25,
   "metadata": {},
   "outputs": [
    {
     "name": "stdout",
     "output_type": "stream",
     "text": [
      "我最喜欢的食物是\n",
      "['pizza', 'falafel', 'cake']\n",
      "我朋友最喜欢的食物跟我一样\n",
      "['pizza', 'falafel', 'cake']\n",
      "==========\n",
      "我最喜欢的食物是\n",
      "['pizza', 'falafel', 'cake', 'cannoli']\n",
      "我朋友最喜欢的食物跟我一样\n",
      "['pizza', 'falafel', 'cake', 'ice cream']\n"
     ]
    }
   ],
   "source": [
    "# 复制列表 [:]  可以得到两个列表\n",
    "my_foods = ['pizza', 'falafel', 'cake']\n",
    "friend_foods = my_foods[:]\n",
    "\n",
    "print(\"我最喜欢的食物是\")\n",
    "print(my_foods)\n",
    "print(\"我朋友最喜欢的食物跟我一样\")\n",
    "print(friend_foods)\n",
    "\n",
    "print(\"=\"*10)\n",
    "\n",
    "my_foods = ['pizza', 'falafel', 'cake']\n",
    "friend_foods = my_foods[:]\n",
    "\n",
    "my_foods.append(\"cannoli\")\n",
    "friend_foods.append('ice cream')\n",
    "\n",
    "print(\"我最喜欢的食物是\")\n",
    "print(my_foods)\n",
    "print(\"我朋友最喜欢的食物跟我一样\")\n",
    "print(friend_foods)"
   ]
  },
  {
   "cell_type": "code",
   "execution_count": 26,
   "metadata": {},
   "outputs": [
    {
     "name": "stdout",
     "output_type": "stream",
     "text": [
      "我最喜欢的食物是\n",
      "['pizza', 'falafel', 'cake', 'cannoli', 'ice cream']\n",
      "我朋友最喜欢的食物跟我一样\n",
      "['pizza', 'falafel', 'cake', 'cannoli', 'ice cream']\n"
     ]
    }
   ],
   "source": [
    "# 直接赋值不使用切片不能得到新的列表\n",
    "my_foods = ['pizza', 'falafel', 'cake']\n",
    "# 这不太好\n",
    "friend_foods = my_foods\n",
    "\n",
    "my_foods.append(\"cannoli\")\n",
    "friend_foods.append('ice cream')\n",
    "\n",
    "print(\"我最喜欢的食物是\")\n",
    "print(my_foods)\n",
    "print(\"我朋友最喜欢的食物跟我一样\")\n",
    "print(friend_foods)\n",
    "# 结果是一样的"
   ]
  },
  {
   "cell_type": "markdown",
   "metadata": {},
   "source": [
    "## 列表的切片练习"
   ]
  },
  {
   "cell_type": "code",
   "execution_count": 32,
   "metadata": {},
   "outputs": [
    {
     "name": "stdout",
     "output_type": "stream",
     "text": [
      "The first three items in the list are:\n",
      "[1, 2, 3]\n",
      "Three items from the middle of the list are:\n",
      "[4, 5, 6]\n",
      "The last three items in the list are:\n",
      "[7, 8, 9]\n"
     ]
    }
   ],
   "source": [
    "num = [1,2,3,4,5,6,7,8,9,]\n",
    "print(\"The first three items in the list are:\")\n",
    "print(num[:3])\n",
    "print(\"Three items from the middle of the list are:\")\n",
    "print(num[3:6])\n",
    "print(\"The last three items in the list are:\")\n",
    "print(num[-3:])"
   ]
  },
  {
   "cell_type": "code",
   "execution_count": 36,
   "metadata": {},
   "outputs": [
    {
     "name": "stdout",
     "output_type": "stream",
     "text": [
      "这里有几个名字，有什么含义呢\n",
      "['zhuzhu', 'liuxiaoxia', 'liuliu', 'zhubaba']\n",
      "原来是一家人，哈哈\n",
      "['zhuzhu', 'liuxiaoxia', 'liuliu', 'zhumama']\n"
     ]
    }
   ],
   "source": [
    "names = [\"zhuzhu\", \"liuxiaoxia\", \"liuliu\"]\n",
    "family = names[:]\n",
    "\n",
    "names.append(\"zhubaba\")\n",
    "family.append(\"zhumama\")\n",
    "\n",
    "print(\"这里有几个名字，有什么含义呢\")\n",
    "for i in names:\n",
    "    print(names)\n",
    "    break\n",
    "print(\"原来是一家人，哈哈\")\n",
    "for i in family:\n",
    "    print(family)\n",
    "    break"
   ]
  },
  {
   "cell_type": "code",
   "execution_count": null,
   "metadata": {},
   "outputs": [],
   "source": []
  }
 ],
 "metadata": {
  "kernelspec": {
   "display_name": "Python 3",
   "language": "python",
   "name": "python3"
  },
  "language_info": {
   "codemirror_mode": {
    "name": "ipython",
    "version": 3
   },
   "file_extension": ".py",
   "mimetype": "text/x-python",
   "name": "python",
   "nbconvert_exporter": "python",
   "pygments_lexer": "ipython3",
   "version": "3.8.8"
  }
 },
 "nbformat": 4,
 "nbformat_minor": 4
}
