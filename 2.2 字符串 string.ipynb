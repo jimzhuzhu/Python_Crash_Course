{
 "cells": [
  {
   "cell_type": "markdown",
   "metadata": {},
   "source": [
    "# 字符串"
   ]
  },
  {
   "cell_type": "code",
   "execution_count": 1,
   "metadata": {},
   "outputs": [
    {
     "data": {
      "text/plain": [
       "'\\nThis is a string.\\n'"
      ]
     },
     "execution_count": 1,
     "metadata": {},
     "output_type": "execute_result"
    }
   ],
   "source": [
    "# 单引号 双引号 三引号\n",
    "'This is a string.'\n",
    "\"This is a string.\"\n",
    "'''\n",
    "This is a string.\n",
    "'''"
   ]
  },
  {
   "cell_type": "markdown",
   "metadata": {},
   "source": [
    "## 修改字符串大小写"
   ]
  },
  {
   "cell_type": "code",
   "execution_count": 1,
   "metadata": {},
   "outputs": [
    {
     "name": "stdout",
     "output_type": "stream",
     "text": [
      "Ada.Lovelace\n",
      "ADA.LOVELACE\n",
      "ada.lovelace\n"
     ]
    }
   ],
   "source": [
    "# 方法title()，将首字母大写\n",
    "name = \"ada.lovelace\"\n",
    "print(name.title())\n",
    "\n",
    "# 方法upper(), 全部改为大写\n",
    "print(name.upper())\n",
    "\n",
    "# 方法lower(), 全部改为小写\n",
    "print(name.lower())"
   ]
  },
  {
   "cell_type": "markdown",
   "metadata": {},
   "source": [
    "## 拼接字符串"
   ]
  },
  {
   "cell_type": "code",
   "execution_count": 12,
   "metadata": {},
   "outputs": [
    {
     "name": "stdout",
     "output_type": "stream",
     "text": [
      "liu yuxia\n"
     ]
    }
   ],
   "source": [
    "# 案例 + 拼接\n",
    "first_name = \"liu\"\n",
    "last_name = \"yuxia\"\n",
    "full_name = first_name + \" \" + last_name\n",
    "\n",
    "print(full_name)"
   ]
  },
  {
   "cell_type": "code",
   "execution_count": 13,
   "metadata": {},
   "outputs": [
    {
     "name": "stdout",
     "output_type": "stream",
     "text": [
      "Hello,Liu Yuxia!\n"
     ]
    }
   ],
   "source": [
    "# 案例2\n",
    "first_name = \"liu\"\n",
    "last_name = \"yuxia\"\n",
    "full_name = first_name + \" \" + last_name\n",
    "\n",
    "print(\"Hello,\" + full_name.title() + \"!\")"
   ]
  },
  {
   "cell_type": "code",
   "execution_count": 15,
   "metadata": {},
   "outputs": [
    {
     "name": "stdout",
     "output_type": "stream",
     "text": [
      "l love you,Liu Yuxia!\n"
     ]
    }
   ],
   "source": [
    "# 存储变量\n",
    "first_name = \"liu\"\n",
    "last_name = \"yuxia\"\n",
    "full_name = first_name + \" \" + last_name\n",
    "\n",
    "message = \"l love you,\" + full_name.title() + \"!\"\n",
    "print(message)"
   ]
  },
  {
   "cell_type": "markdown",
   "metadata": {},
   "source": [
    "## 使用制表符或换行符来添加空白"
   ]
  },
  {
   "cell_type": "code",
   "execution_count": 2,
   "metadata": {},
   "outputs": [
    {
     "name": "stdout",
     "output_type": "stream",
     "text": [
      "\tHello Python\n"
     ]
    }
   ],
   "source": [
    "# 字符组合 /t, 添加制表符\n",
    "print(\"\\tHello Python\")"
   ]
  },
  {
   "cell_type": "code",
   "execution_count": 17,
   "metadata": {},
   "outputs": [
    {
     "name": "stdout",
     "output_type": "stream",
     "text": [
      "Language:\n",
      "Python\n",
      "C\n",
      "JavaScript\n",
      "C++\n"
     ]
    }
   ],
   "source": [
    "# 换行符 \\n \n",
    "print(\"Language:\\nPython\\nC\\nJavaScript\\nC++\")"
   ]
  },
  {
   "cell_type": "code",
   "execution_count": 18,
   "metadata": {},
   "outputs": [
    {
     "name": "stdout",
     "output_type": "stream",
     "text": [
      "Language:\n",
      "\tPython\n",
      "\tC\n",
      "\tJavaScript\n",
      "\tC++\n"
     ]
    }
   ],
   "source": [
    "# 同时添加字符串 \\n \\t\n",
    "# 换行并在下一行开头添加一个制表符\n",
    "# 换行符 \\n \n",
    "print(\"Language:\\n\\tPython\\n\\tC\\n\\tJavaScript\\n\\tC++\")"
   ]
  },
  {
   "cell_type": "markdown",
   "metadata": {},
   "source": [
    "## 删除开头末尾多余的空白\n",
    "## 方法 rstrip()"
   ]
  },
  {
   "cell_type": "code",
   "execution_count": 22,
   "metadata": {},
   "outputs": [
    {
     "name": "stdout",
     "output_type": "stream",
     "text": [
      "Python \n",
      "Python\n",
      "Python\n"
     ]
    }
   ],
   "source": [
    "# rstrip() 删除末尾\n",
    "my_favorite_language = \"Python \"\n",
    "print(my_favorite_language)\n",
    "\n",
    "print(my_favorite_language.rstrip()) # rstrip() 暂时删除空白\n",
    "\n",
    "# 重新赋值到变量，永久删除空白\n",
    "my_favorite_language = my_favorite_language.rstrip() \n",
    "print(my_favorite_language)"
   ]
  },
  {
   "cell_type": "code",
   "execution_count": 24,
   "metadata": {},
   "outputs": [
    {
     "name": "stdout",
     "output_type": "stream",
     "text": [
      " Python \n",
      "Python \n",
      "Python\n"
     ]
    }
   ],
   "source": [
    "# lstrip()  删除开头空白\n",
    "my_favorite_language = \" Python \"\n",
    "print(my_favorite_language)\n",
    "\n",
    "print(my_favorite_language.lstrip()) \n",
    "\n",
    "# strip() 删除两端空白\n",
    "print(my_favorite_language.strip()) "
   ]
  },
  {
   "cell_type": "markdown",
   "metadata": {},
   "source": [
    "## 字符串避免语法错误\n"
   ]
  },
  {
   "cell_type": "code",
   "execution_count": 25,
   "metadata": {},
   "outputs": [
    {
     "name": "stdout",
     "output_type": "stream",
     "text": [
      "One of Python's strengths is its diverse community\n"
     ]
    }
   ],
   "source": [
    "# 双引号嵌套单引号\n",
    "message = \"One of Python's strengths is its diverse community\"\n",
    "print(message)"
   ]
  },
  {
   "cell_type": "markdown",
   "metadata": {},
   "source": [
    "## 小练习"
   ]
  },
  {
   "cell_type": "code",
   "execution_count": 30,
   "metadata": {},
   "outputs": [
    {
     "name": "stdout",
     "output_type": "stream",
     "text": [
      "Hello liu yu xia,would you like to make love?\n"
     ]
    }
   ],
   "source": [
    "# 个性化消息\n",
    "my_wife = \"liu yu xia\"\n",
    "print(\"Hello \" + my_wife + \",\" + \"would you like to make love?\")"
   ]
  },
  {
   "cell_type": "code",
   "execution_count": 31,
   "metadata": {},
   "outputs": [
    {
     "name": "stdout",
     "output_type": "stream",
     "text": [
      "ZHU YU XUAN\n",
      "zhu yu xuan\n",
      "Zhu Yu Xuan\n"
     ]
    }
   ],
   "source": [
    "# 名字大小写练习\n",
    "my_son = \"zhu yu xuan\"\n",
    "print(my_son.upper()) # 大写\n",
    "print(my_son.lower()) # 小写\n",
    "print(my_son.title()) # 首字母大写"
   ]
  },
  {
   "cell_type": "code",
   "execution_count": 37,
   "metadata": {},
   "outputs": [
    {
     "name": "stdout",
     "output_type": "stream",
     "text": [
      "老子曾经说过，\"千里之行，始于足下。\"\n",
      "老子曾经说过，\"千里之行，始于足下。\"\n"
     ]
    }
   ],
   "source": [
    "# 名言打印\n",
    "print(\"老子曾经说过，\\\"千里之行，始于足下。\\\"\")\n",
    "fam_person = \"老子\"\n",
    "say = \"\\\"千里之行，始于足下。\\\"\"\n",
    "print(fam_person + \"曾经说过，\" + say)\n"
   ]
  },
  {
   "cell_type": "code",
   "execution_count": 48,
   "metadata": {},
   "outputs": [
    {
     "name": "stdout",
     "output_type": "stream",
     "text": [
      "\tliu yu xia\n",
      "\tliu\n",
      "\tyu\n",
      "\txia\n",
      "liu yu xia\n",
      "liu yu xia \n",
      " liu yu xia\n"
     ]
    }
   ],
   "source": [
    "# 换行制表符使用\n",
    "print(\"\\tliu yu xia\")\n",
    "print(\"\\tliu\\n\\tyu\\n\\txia\")\n",
    "\n",
    "# 人名空白剔除\n",
    "person = \" liu yu xia \"\n",
    "print(person.strip()) # 两端\n",
    "print(person.lstrip()) # 左边\n",
    "print(person.rstrip()) # 右边"
   ]
  },
  {
   "cell_type": "code",
   "execution_count": null,
   "metadata": {},
   "outputs": [],
   "source": []
  }
 ],
 "metadata": {
  "kernelspec": {
   "display_name": "Python 3",
   "language": "python",
   "name": "python3"
  },
  "language_info": {
   "codemirror_mode": {
    "name": "ipython",
    "version": 3
   },
   "file_extension": ".py",
   "mimetype": "text/x-python",
   "name": "python",
   "nbconvert_exporter": "python",
   "pygments_lexer": "ipython3",
   "version": "3.8.8"
  }
 },
 "nbformat": 4,
 "nbformat_minor": 4
}
