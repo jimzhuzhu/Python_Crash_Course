{
 "cells": [
  {
   "cell_type": "markdown",
   "id": "b788af26",
   "metadata": {},
   "source": [
    "- 将列表传递给函数后，函数就能直接访问其内容"
   ]
  },
  {
   "cell_type": "code",
   "execution_count": 1,
   "id": "b0c1efae",
   "metadata": {},
   "outputs": [
    {
     "name": "stdout",
     "output_type": "stream",
     "text": [
      "Hello, Zhu Xianfu!\n",
      "Hello, Liu Yuxia!\n",
      "Hello, Liu Liu!\n"
     ]
    }
   ],
   "source": [
    "def greet_users(names):\n",
    "    '''向列表中的每位用户发出简单的问候'''\n",
    "    for name in names:\n",
    "        msg = 'Hello, ' + name.title() +'!'\n",
    "        print(msg)\n",
    "        \n",
    "username = ['zhu xianfu', 'liu yuxia', 'liu liu']\n",
    "greet_users(username)"
   ]
  },
  {
   "cell_type": "markdown",
   "id": "662d3c18",
   "metadata": {},
   "source": [
    "# 在函数中修改列表\n",
    "- 案例：为用户提交的设计制作3D打印模型的公司。需要打印的设计存储在一个列表中，打印后移到另一个列表中。下面是在不使用函数的情况下模拟这个过程的代码"
   ]
  },
  {
   "cell_type": "code",
   "execution_count": 4,
   "id": "7660d4fd",
   "metadata": {},
   "outputs": [
    {
     "name": "stdout",
     "output_type": "stream",
     "text": [
      "Printing modle:dodecahedron\n",
      "Printing modle:robot pendant\n",
      "Printing modle:iphone case\n",
      "\n",
      "The following models have been printed：\n",
      "dodecahedron\n",
      "robot pendant\n",
      "iphone case\n"
     ]
    }
   ],
   "source": [
    "# 首先创建一个列表，里面是需要打印的设计\n",
    "unprinted_designs = ['iphone case', 'robot pendant', 'dodecahedron']\n",
    "# 创建一个空列表，储存打印好的设计\n",
    "completed_models = []\n",
    "\n",
    "# 模拟打印每个设计，直到没有来打印的设计为止\n",
    "while unprinted_designs:\n",
    "    current_design = unprinted_designs.pop()\n",
    "    \n",
    "    # 模拟根据设计制作3d打印模型的过程\n",
    "    print('Printing modle:' + current_design)\n",
    "    completed_models.append(current_design)\n",
    "    \n",
    "# 显示打印好的所有模型\n",
    "print('\\nThe following models have been printed：')\n",
    "for completed_model in completed_models:\n",
    "    print(completed_model)"
   ]
  },
  {
   "cell_type": "code",
   "execution_count": 17,
   "id": "84088961",
   "metadata": {},
   "outputs": [
    {
     "name": "stdout",
     "output_type": "stream",
     "text": [
      "Printing modle:赛车\n",
      "Printing modle:乐高积木\n",
      "Printing modle:机器人\n",
      "Printing modle:苹果\n",
      "\n",
      "The following models have been printed：\n",
      "赛车\n",
      "乐高积木\n",
      "机器人\n",
      "苹果\n",
      "====================\n",
      "Printing modle:平板\n",
      "Printing modle:电视\n",
      "Printing modle:手机\n",
      "Printing modle:电脑\n",
      "\n",
      "The following models have been printed：\n",
      "平板\n",
      "电视\n",
      "手机\n",
      "电脑\n"
     ]
    }
   ],
   "source": [
    "# 通过函数去完成上面的案例\n",
    "def print_models(unprinted_designs, completed_models):\n",
    "    '''\n",
    "    模拟打印每个设计，直到没有未打印的为止\n",
    "    打印每个设计后，将其移动到列表\n",
    "    '''\n",
    "    while unprinted_designs:\n",
    "        current_design = unprinted_designs.pop()\n",
    "        \n",
    "        # 模拟根据设计制作3d打印模型的过程\n",
    "        print('Printing modle:' + current_design)\n",
    "        completed_models.append(current_design)\n",
    "\n",
    "def show_completed_models(completed_models):\n",
    "    '''显示打印好的所有模型'''\n",
    "    print('\\nThe following models have been printed：')\n",
    "    for completed_model in completed_models:\n",
    "        print(completed_model)\n",
    "       \n",
    "unprinted_design = ['苹果', '机器人', '乐高积木', '赛车']\n",
    "completed_model = []\n",
    "print_models(unprinted_design, completed_model)\n",
    "show_completed_models(completed_model)\n",
    "print('='*20)\n",
    "\n",
    "unprinted_design_1 = ['电脑', '手机', '电视', '平板']\n",
    "completed_model_1 = []\n",
    "print_models(unprinted_design_1, completed_model_1)\n",
    "show_completed_models(completed_model_1)"
   ]
  },
  {
   "cell_type": "markdown",
   "id": "f7c724af",
   "metadata": {},
   "source": [
    "## 禁止函数修改列表\n",
    "- 向函数传递列表的副本而不是原件\n",
    "- 创建副本\n",
    "    - 使用切片 [:]\n",
    "            print_models(unprinted_designs[:], completed_models[:])"
   ]
  },
  {
   "cell_type": "code",
   "execution_count": 43,
   "id": "cdc2279a",
   "metadata": {},
   "outputs": [
    {
     "name": "stdout",
     "output_type": "stream",
     "text": [
      "[5]\n",
      "[5, 4]\n",
      "[5, 4, 3]\n",
      "[5, 4, 3, 2]\n",
      "[5, 4, 3, 2, 1]\n",
      "[]\n"
     ]
    }
   ],
   "source": [
    "a = [1,2,3,4,5]\n",
    "b = []\n",
    "def number(f, l):\n",
    "    while f:\n",
    "        z = f.pop()\n",
    "        l.append(z)\n",
    "        print(l)\n",
    "    \n",
    "number(a, b)\n",
    "print(a)"
   ]
  },
  {
   "cell_type": "code",
   "execution_count": 42,
   "id": "b5a23bb6",
   "metadata": {},
   "outputs": [
    {
     "name": "stdout",
     "output_type": "stream",
     "text": [
      "[5]\n",
      "[5, 4]\n",
      "[5, 4, 3]\n",
      "[5, 4, 3, 2]\n",
      "[5, 4, 3, 2, 1]\n",
      "[1, 2, 3, 4, 5]\n"
     ]
    }
   ],
   "source": [
    "a = [1,2,3,4,5]\n",
    "b = []\n",
    "def number(f, l):\n",
    "    while f:\n",
    "        z = f.pop()\n",
    "        l.append(z)\n",
    "        print(l)\n",
    "# 使用切片创建副本，原本的a列表保持不变    \n",
    "number(a[:], b)\n",
    "print(a)"
   ]
  },
  {
   "cell_type": "markdown",
   "id": "eaf4b95e",
   "metadata": {},
   "source": [
    "# 动手练习\n",
    "- 创建一个包含魔术师名字的列表，并将其传递给一个名为show_magicians() 的函数，这个函数打印列表中每个魔术师的名字。"
   ]
  },
  {
   "cell_type": "code",
   "execution_count": 45,
   "id": "fe5f80d9",
   "metadata": {},
   "outputs": [
    {
     "name": "stdout",
     "output_type": "stream",
     "text": [
      "magician name is Zhu!\n",
      "magician name is Liu!\n",
      "magician name is Wang!\n",
      "magician name is Zhou!\n",
      "magician name is Sun!\n"
     ]
    }
   ],
   "source": [
    "def show_magicians(names):\n",
    "    '''打印列表中每个魔术师的名字'''\n",
    "    for name in names:\n",
    "        msg = 'magician name is ' + name.title() + '!'\n",
    "        print(msg)\n",
    "\n",
    "magic_name = ['zhu', 'liu', 'wang', 'zhou', 'sun']\n",
    "show_magicians(magic_name)"
   ]
  },
  {
   "cell_type": "code",
   "execution_count": null,
   "id": "ab2a10c8",
   "metadata": {},
   "outputs": [],
   "source": []
  }
 ],
 "metadata": {
  "kernelspec": {
   "display_name": "Python 3",
   "language": "python",
   "name": "python3"
  },
  "language_info": {
   "codemirror_mode": {
    "name": "ipython",
    "version": 3
   },
   "file_extension": ".py",
   "mimetype": "text/x-python",
   "name": "python",
   "nbconvert_exporter": "python",
   "pygments_lexer": "ipython3",
   "version": "3.8.8"
  }
 },
 "nbformat": 4,
 "nbformat_minor": 5
}
