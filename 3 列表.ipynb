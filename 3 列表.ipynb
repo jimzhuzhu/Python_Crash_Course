{
 "cells": [
  {
   "cell_type": "markdown",
   "metadata": {},
   "source": [
    "# 列表list\n",
    " - 用方括号 [] 来表示列表"
   ]
  },
  {
   "cell_type": "code",
   "execution_count": 8,
   "metadata": {},
   "outputs": [
    {
     "name": "stdout",
     "output_type": "stream",
     "text": [
      "['trek', 'cannondale', 'redline', 'specialized']\n"
     ]
    }
   ],
   "source": [
    "# bicycles案例\n",
    "bicycles = ['trek', 'cannondale', 'redline', 'specialized']\n",
    "print(bicycles)"
   ]
  },
  {
   "cell_type": "markdown",
   "metadata": {},
   "source": [
    "## 访问列表元素\n",
    " - 左包括，右不包括"
   ]
  },
  {
   "cell_type": "code",
   "execution_count": 31,
   "metadata": {},
   "outputs": [
    {
     "name": "stdout",
     "output_type": "stream",
     "text": [
      "['zhu xian fu', 'liu yu xia', 'liuliu', '朱献福', '刘雨霞']\n",
      "zhu xian fu\n",
      "['liu yu xia', 'liuliu', '朱献福', '刘雨霞']\n",
      "['zhu xian fu', 'liu yu xia', 'liuliu']\n",
      "['zhu xian fu', 'liu yu xia']\n",
      "刘雨霞\n",
      "['zhu xian fu', 'liu yu xia', 'liuliu', '朱献福']\n",
      "['liuliu', '朱献福']\n"
     ]
    }
   ],
   "source": [
    "names = [\"zhu xian fu\", \"liu yu xia\", \"liuliu\", \"朱献福\", \"刘雨霞\"]\n",
    "print(names)\n",
    "print(names[0])\n",
    "print(names[1:])\n",
    "print(names[0:3])\n",
    "print(names[:2])\n",
    "print(names[-1])\n",
    "print(names[:-1])\n",
    "print(names[-3:-1])"
   ]
  },
  {
   "cell_type": "code",
   "execution_count": 30,
   "metadata": {},
   "outputs": [
    {
     "name": "stdout",
     "output_type": "stream",
     "text": [
      "Zhu Xian Fu\n",
      "ZHU XIAN FU\n"
     ]
    }
   ],
   "source": [
    "# 使用方法title()输出简洁\n",
    "# 只能访问一个元素才能使用title()\n",
    "print(names[0].title())\n",
    "print(names[0].upper())"
   ]
  },
  {
   "cell_type": "code",
   "execution_count": 35,
   "metadata": {},
   "outputs": [
    {
     "name": "stdout",
     "output_type": "stream",
     "text": [
      "朱献福永远爱着刘雨霞!\n",
      "刘雨霞也永远爱着朱献福!\n",
      "朱献福和刘雨霞非常爱他们的孩子Liuliu\n"
     ]
    }
   ],
   "source": [
    "# 拼接列表的值来创建信息\n",
    "message1 = names[3].title() + \"永远爱着\" + names[-1].title() + \"!\"\n",
    "print(message)\n",
    "\n",
    "message2 = names[-1].title() + \"也永远爱着\" + names[3].title() + \"!\"\n",
    "print(message2)\n",
    "\n",
    "message3 =  names[3].title() + \"和\" + names[-1].title() + \"非常爱他们的孩子\" + names[2].title()\n",
    "print(message3)"
   ]
  },
  {
   "cell_type": "markdown",
   "metadata": {},
   "source": [
    "## 列表可以修改、添加以及删除元素\n",
    " - list[num] = \"string\" 修改列表中指定元素索引，并赋值\n",
    " - append（） 方法 添加元素\n",
    " - insert（） 方法 插入元素\n",
    " - del（）方法 删除元素\n",
    " - pop（）方法 删除元素\n",
    " - remove（） 方法 根据值删除元素"
   ]
  },
  {
   "cell_type": "code",
   "execution_count": 40,
   "metadata": {},
   "outputs": [
    {
     "name": "stdout",
     "output_type": "stream",
     "text": [
      "['honda', 'yamha', 'suzuki']\n",
      "['ducati', 'yamha', 'suzuki']\n",
      "['ducati', 'a', 'b', 'c']\n"
     ]
    }
   ],
   "source": [
    "# 修改列表案例\n",
    "motorcycles = ['honda', 'yamha', 'suzuki']\n",
    "print(motorcycles)\n",
    "\n",
    "motorcycles[0] = 'ducati'\n",
    "print(motorcycles)\n",
    "\n",
    "# 可以修改任何在列表中的值，相当于重新定义变量赋值\n",
    "motorcycles[0:3] = 'ducati', 'a', 'b'\n",
    "print(motorcycles)"
   ]
  },
  {
   "cell_type": "code",
   "execution_count": 42,
   "metadata": {},
   "outputs": [
    {
     "name": "stdout",
     "output_type": "stream",
     "text": [
      "['honda', 'yamaha', 'suzuki']\n",
      "['honda', 'yamaha', 'suzuki', 'ducati']\n"
     ]
    }
   ],
   "source": [
    "# 列表中添加元素\n",
    "# 添加到末尾\n",
    "motorcycles = ['honda', 'yamaha', 'suzuki']\n",
    "print(motorcycles)\n",
    "\n",
    "motorcycles.append('ducati')\n",
    "print(motorcycles)\n",
    "\n",
    "\n",
    "# 创建一个空列表\n",
    "motorcycles = []\n",
    "motorcycles.append('honda')\n",
    "motorcycles.append('yamaha')\n",
    "motorcycles.append('suzuki')\n",
    "print(motorcycles)"
   ]
  },
  {
   "cell_type": "code",
   "execution_count": 44,
   "metadata": {},
   "outputs": [
    {
     "name": "stdout",
     "output_type": "stream",
     "text": [
      "['ducati', 'honda', 'yamaha', 'suzuki']\n"
     ]
    }
   ],
   "source": [
    "# insert() 任意位置插入新元素\n",
    "motorcycles = ['honda', 'yamaha', 'suzuki']\n",
    "motorcycles.insert(0, 'ducati')\n",
    "print(motorcycles)"
   ]
  },
  {
   "cell_type": "code",
   "execution_count": 47,
   "metadata": {},
   "outputs": [
    {
     "name": "stdout",
     "output_type": "stream",
     "text": [
      "['yamaha', 'suzuki']\n",
      "['yamaha']\n"
     ]
    }
   ],
   "source": [
    "# del 删除 可指定删除\n",
    "motorcycles = ['honda', 'yamaha', 'suzuki']\n",
    "del motorcycles[0]\n",
    "print(motorcycles)\n",
    " # 删除列表第二个元素\n",
    "del motorcycles[1]\n",
    "print(motorcycles)"
   ]
  },
  {
   "cell_type": "code",
   "execution_count": 50,
   "metadata": {},
   "outputs": [
    {
     "name": "stdout",
     "output_type": "stream",
     "text": [
      "['honda', 'yamaha', 'suzuki']\n",
      "['honda', 'yamaha']\n",
      "suzuki\n"
     ]
    }
   ],
   "source": [
    "# pop() 默认删除末尾的元素\n",
    "motorcycles = ['honda', 'yamaha', 'suzuki']\n",
    "print(motorcycles)\n",
    "\n",
    "popped_motorcycle = motorcycles.pop()\n",
    "print(motorcycles)\n",
    "print(popped_motorcycle) # 删除的值显示出来"
   ]
  },
  {
   "cell_type": "code",
   "execution_count": 53,
   "metadata": {},
   "outputs": [
    {
     "name": "stdout",
     "output_type": "stream",
     "text": [
      "The last motorcycle I owned was a Suzuki.\n",
      "The last motorcycle I owned was a Honda.\n"
     ]
    }
   ],
   "source": [
    "motorcycles = ['honda', 'yamaha', 'suzuki']\n",
    "last_owned = motorcycles.pop()\n",
    "print(\"The last motorcycle I owned was a \" + last_owned.title() + \".\")\n",
    "\n",
    "# pop()可指定删除\n",
    "last_owned = motorcycles.pop(0)\n",
    "print(\"The last motorcycle I owned was a \" + last_owned.title() + \".\")"
   ]
  },
  {
   "cell_type": "code",
   "execution_count": 56,
   "metadata": {},
   "outputs": [
    {
     "name": "stdout",
     "output_type": "stream",
     "text": [
      "['honda', 'yamaha', 'suzuki', 'ducati']\n",
      "['honda', 'yamaha', 'suzuki']\n",
      "['honda', 'yamaha', 'suzuki', 'ducati']\n",
      "['honda', 'yamaha', 'suzuki']\n",
      "A Ducati is too expensive for me.\n"
     ]
    }
   ],
   "source": [
    "# 根据值删除元素,也可以接着使用它的值\n",
    "motorcycles = ['honda', 'yamaha', 'suzuki', 'ducati']\n",
    "print(motorcycles)\n",
    "motorcycles.remove('ducati' )\n",
    "print(motorcycles)\n",
    "\n",
    "\n",
    "motorcycles = ['honda', 'yamaha', 'suzuki', 'ducati']\n",
    "print(motorcycles)\n",
    "\n",
    "too_expensive = 'ducati'\n",
    "motorcycles.remove(too_expensive)\n",
    "print(motorcycles)\n",
    "print(\"\\nA \" + too_expensive.title() + \" is too expensive for me.\")"
   ]
  },
  {
   "cell_type": "markdown",
   "metadata": {},
   "source": [
    "# 列表练习"
   ]
  },
  {
   "cell_type": "code",
   "execution_count": 3,
   "metadata": {},
   "outputs": [
    {
     "name": "stdout",
     "output_type": "stream",
     "text": [
      "zhuxianfu,liuyuxia ,liuliu, 你们愿意和我共进晚餐吗?\n",
      "liuliu说：我有事改天吧！\n",
      "['zhuxianfu', 'liuyuxia', 'zhu yu xuan']\n",
      "zhuxianfu,liuyuxia ,liuliu, 你们愿意和我共进晚餐吗?\n",
      "['dog', 'zhuxianfu', 'liuyuxia', 'cat', 'zhu yu xuan', 'pig']\n",
      "6\n"
     ]
    }
   ],
   "source": [
    "# 邀请名单\n",
    "\n",
    "pt_name = [\"zhuxianfu\", \"liuyuxia\", \"liuliu\"]\n",
    "message1 = pt_name[0] + \",\" + pt_name[1] + \" ,\" + pt_name[2] + \", 你们愿意和我共进晚餐吗?\"\n",
    "print(message1)\n",
    "\n",
    "message2 = pt_name[2] + \"说：我有事改天吧！\"\n",
    "print(message2)\n",
    "pt_name[2] = \"zhu yu xuan\"\n",
    "print(pt_name)\n",
    "# 重新赋值\n",
    "message1 = pt_name[0] + \",\" + pt_name[1] + \" ,\" + pt_name[2] + \", 你们愿意和我共进晚餐吗?\"\n",
    "print(message1)\n",
    "\n",
    "# 增加元素\n",
    "pt_name.insert(0, \"dog\")\n",
    "pt_name.insert(3,\"cat\")\n",
    "pt_name.append(\"pig\")\n",
    "pt_name2 = pt_name\n",
    "print(pt_name2)\n",
    "print(len(pt_name2))"
   ]
  },
  {
   "cell_type": "code",
   "execution_count": 9,
   "metadata": {},
   "outputs": [
    {
     "name": "stdout",
     "output_type": "stream",
     "text": [
      "dog,你愿意和我共进晚餐吗?\n",
      "zhuxianfu,你愿意和我共进晚餐吗?\n",
      "liuyuxia,你愿意和我共进晚餐吗?\n",
      "cat,你愿意和我共进晚餐吗?\n",
      "zhu yu xuan,你愿意和我共进晚餐吗?\n",
      "pig,你愿意和我共进晚餐吗?\n",
      "非常抱歉，现在我只能邀请两位嘉宾共进晚餐！\n"
     ]
    }
   ],
   "source": [
    "# 打印所有成员邀请\n",
    "print(pt_name[0] + \",你愿意和我共进晚餐吗?\")\n",
    "print(pt_name[1] + \",你愿意和我共进晚餐吗?\")\n",
    "print(pt_name[2] + \",你愿意和我共进晚餐吗?\")\n",
    "print(pt_name[3] + \",你愿意和我共进晚餐吗?\")\n",
    "print(pt_name[4] + \",你愿意和我共进晚餐吗?\")\n",
    "print(pt_name[5] + \",你愿意和我共进晚餐吗?\")\n",
    "print(\"非常抱歉，现在我只能邀请两位嘉宾共进晚餐！\")"
   ]
  },
  {
   "cell_type": "code",
   "execution_count": 10,
   "metadata": {},
   "outputs": [
    {
     "name": "stdout",
     "output_type": "stream",
     "text": [
      "<built-in method sort of list object at 0x0000000004E2CC88>\n",
      "cat 很抱歉，今晚不能邀请你来，改天再约哦！\n",
      "dog 很抱歉，今晚不能邀请你来，改天再约哦！\n",
      "pig 很抱歉，今晚不能邀请你来，改天再约哦！\n",
      "zhuxianfu 很抱歉，今晚不能邀请你来，改天再约哦！\n",
      "liuyuxia，今晚记得共进晚餐哦！\n",
      "zhu yu xuan，今晚一切正常哦！\n",
      "[]\n"
     ]
    }
   ],
   "source": [
    "# 删除操作\n",
    "pt_name2.sort()\n",
    "print(pt_name2.sort)\n",
    "sry1 = pt_name2.pop(0)\n",
    "sry2 = pt_name2.pop(0)\n",
    "sry3 = pt_name2.pop(1)\n",
    "sry4 = pt_name2.pop(2)\n",
    "print(sry1 + \" 很抱歉，今晚不能邀请你来，改天再约哦！\")\n",
    "print(sry2 + \" 很抱歉，今晚不能邀请你来，改天再约哦！\")\n",
    "print(sry3 + \" 很抱歉，今晚不能邀请你来，改天再约哦！\")\n",
    "print(sry4 + \" 很抱歉，今晚不能邀请你来，改天再约哦！\")\n",
    "print(pt_name2[0] + \"，今晚记得共进晚餐哦！\")\n",
    "print(pt_name2[1] + \"，今晚一切正常哦！\")\n",
    "del pt_name2[0]\n",
    "del pt_name2[0]\n",
    "print(pt_name2)"
   ]
  },
  {
   "cell_type": "markdown",
   "metadata": {},
   "source": [
    "# 组织列表\n",
    " - sort（） 方法对列表进行永久性排序"
   ]
  },
  {
   "cell_type": "code",
   "execution_count": 7,
   "metadata": {},
   "outputs": [
    {
     "name": "stdout",
     "output_type": "stream",
     "text": [
      "['audi', 'bmw', 'subaru', 'toyota']\n"
     ]
    }
   ],
   "source": [
    "cars = ['bmw', 'audi', 'toyota', 'subaru']\n",
    "cars.sort()\n",
    "print(cars)"
   ]
  },
  {
   "cell_type": "code",
   "execution_count": 11,
   "metadata": {},
   "outputs": [
    {
     "name": "stdout",
     "output_type": "stream",
     "text": [
      "['toyota', 'subaru', 'bmw', 'audi']\n"
     ]
    }
   ],
   "source": [
    "# 字母相反的顺序排列列表元素\n",
    "cars = ['bmw', 'audi', 'toyota', 'subaru']\n",
    "cars.sort(reverse=True)\n",
    "print(cars)"
   ]
  },
  {
   "cell_type": "code",
   "execution_count": 12,
   "metadata": {},
   "outputs": [
    {
     "name": "stdout",
     "output_type": "stream",
     "text": [
      "Here is the original list:\n",
      "['bmw', 'audi', 'toyota', 'subaru']\n",
      "\n",
      "Here is the sorted list:\n",
      "['audi', 'bmw', 'subaru', 'toyota']\n",
      "\n",
      "Here is the original list again:\n",
      "['bmw', 'audi', 'toyota', 'subaru']\n"
     ]
    }
   ],
   "source": [
    "# 函数sorted（）对列表进行临时排序\n",
    "cars = ['bmw', 'audi', 'toyota', 'subaru']\n",
    "print(\"Here is the original list:\")\n",
    "print(cars)\n",
    "\n",
    "print(\"\\nHere is the sorted list:\")\n",
    "print(sorted(cars))\n",
    "\n",
    "print(\"\\nHere is the original list again:\")\n",
    "print(cars)"
   ]
  },
  {
   "cell_type": "markdown",
   "metadata": {},
   "source": [
    "# 倒着打印列表 reverse（）"
   ]
  },
  {
   "cell_type": "code",
   "execution_count": 2,
   "metadata": {},
   "outputs": [
    {
     "name": "stdout",
     "output_type": "stream",
     "text": [
      "['bmw', 'audi', 'toyota', 'subaru']\n",
      "['subaru', 'toyota', 'audi', 'bmw']\n",
      "['bmw', 'audi', 'toyota', 'subaru']\n"
     ]
    }
   ],
   "source": [
    "# reverse()\n",
    "cars = [\"bmw\", \"audi\", \"toyota\", \"subaru\"]\n",
    "print(cars)\n",
    "cars.reverse()\n",
    "print(cars)\n",
    "# 再次调用\n",
    "cars.reverse()\n",
    "print(cars)"
   ]
  },
  {
   "cell_type": "markdown",
   "metadata": {},
   "source": [
    "# len() 确定列表长度"
   ]
  },
  {
   "cell_type": "code",
   "execution_count": 3,
   "metadata": {},
   "outputs": [
    {
     "data": {
      "text/plain": [
       "4"
      ]
     },
     "execution_count": 3,
     "metadata": {},
     "output_type": "execute_result"
    }
   ],
   "source": [
    "cars = [\"bmw\", \"audi\", \"toyota\", \"subaru\"]\n",
    "len(cars)"
   ]
  },
  {
   "cell_type": "markdown",
   "metadata": {},
   "source": [
    "# 练习 放眼看时间"
   ]
  },
  {
   "cell_type": "code",
   "execution_count": 17,
   "metadata": {},
   "outputs": [
    {
     "name": "stdout",
     "output_type": "stream",
     "text": [
      "['beijing', 'shanghai', 'hangzhou', 'xianggang', 'qingdao', 'yunann']\n",
      "['beijing', 'hangzhou', 'qingdao', 'shanghai', 'xianggang', 'yunann']\n",
      "['beijing', 'shanghai', 'hangzhou', 'xianggang', 'qingdao', 'yunann']\n",
      "['yunann', 'xianggang', 'shanghai', 'qingdao', 'hangzhou', 'beijing']\n",
      "['beijing', 'shanghai', 'hangzhou', 'xianggang', 'qingdao', 'yunann']\n",
      "['yunann', 'qingdao', 'xianggang', 'hangzhou', 'shanghai', 'beijing']\n",
      "['beijing', 'shanghai', 'hangzhou', 'xianggang', 'qingdao', 'yunann']\n",
      "['beijing', 'hangzhou', 'qingdao', 'shanghai', 'xianggang', 'yunann']\n",
      "['yunann', 'xianggang', 'shanghai', 'qingdao', 'hangzhou', 'beijing']\n"
     ]
    }
   ],
   "source": [
    "travel = [\"beijing\", \"shanghai\", \"hangzhou\", \"xianggang\", \"qingdao\", \"yunann\"]\n",
    "print(travel)\n",
    "print(sorted(travel))\n",
    "print(travel)\n",
    "print(sorted(travel, reverse=True))\n",
    "print(travel)\n",
    "travel.reverse()\n",
    "print(travel)\n",
    "travel.reverse()\n",
    "print(travel)\n",
    "travel.sort()\n",
    "print(travel)\n",
    "travel.sort(reverse=True)\n",
    "print(travel)"
   ]
  },
  {
   "cell_type": "code",
   "execution_count": 32,
   "metadata": {},
   "outputs": [
    {
     "name": "stdout",
     "output_type": "stream",
     "text": [
      "['city', 'country', 'language', 'mountain', 'person', 'animal']\n",
      "city\n",
      "['city', 'country', 'language', 'mountain', 'person', 'animal', 'river']\n",
      "['country', 'language', 'mountain', 'person', 'animal', 'river']\n",
      "['animal', 'country', 'language', 'mountain', 'person', 'river']\n",
      "['animal', 'country', 'language', 'mountain', 'person', 'river']\n"
     ]
    }
   ],
   "source": [
    "World = [\"city\", \"country\", \"language\", \"mountain\", \"person\", \"animal\"]\n",
    "print(World)\n",
    "# 下标索引\n",
    "print(World[0])\n",
    "# 增加元素\n",
    "World.append(\"river\")\n",
    "print(World)\n",
    "# 删除元素\n",
    "del World[0]\n",
    "print(World)\n",
    "print(sorted(World))\n",
    "World.sort()\n",
    "print(World)"
   ]
  },
  {
   "cell_type": "code",
   "execution_count": null,
   "metadata": {},
   "outputs": [],
   "source": []
  }
 ],
 "metadata": {
  "kernelspec": {
   "display_name": "Python 3",
   "language": "python",
   "name": "python3"
  },
  "language_info": {
   "codemirror_mode": {
    "name": "ipython",
    "version": 3
   },
   "file_extension": ".py",
   "mimetype": "text/x-python",
   "name": "python",
   "nbconvert_exporter": "python",
   "pygments_lexer": "ipython3",
   "version": "3.8.8"
  }
 },
 "nbformat": 4,
 "nbformat_minor": 4
}
